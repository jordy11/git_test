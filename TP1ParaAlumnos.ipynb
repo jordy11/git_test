{
  "nbformat": 4,
  "nbformat_minor": 0,
  "metadata": {
    "colab": {
      "name": "TP1ParaAlumnos",
      "provenance": [],
      "include_colab_link": true
    },
    "kernelspec": {
      "name": "python3",
      "display_name": "Python 3"
    }
  },
  "cells": [
    {
      "cell_type": "markdown",
      "metadata": {
        "id": "view-in-github",
        "colab_type": "text"
      },
      "source": [
        "<a href=\"https://colab.research.google.com/github/jordy11/git_test/blob/main/TP1ParaAlumnos.ipynb\" target=\"_parent\"><img src=\"https://colab.research.google.com/assets/colab-badge.svg\" alt=\"Open In Colab\"/></a>"
      ]
    },
    {
      "cell_type": "code",
      "metadata": {
        "id": "qgOYqUMqkqR8"
      },
      "source": [
        "#@title Aprendizaje Profundo | Otoño 2021 by Datitos{display-mode: \"form\" }\n",
        "#@markdown ![71335171.png](data:image/png;base64,iVBORw0KGgoAAAANSUhEUgAAAMgAAADICAIAAAAiOjnJAAACwElEQVR4nOzdMY7iQBBA0WU197/FnJNNJ/FqWvLHZfd7McIGfVVQos3X+/3+A2f7e/UN8EzCIiEsEsIiISwSwiIhLBLCIiEsEsIiISwSwiIhLBLCIiEsEsIiISwSwiIhLBLCIiEsEsIiISwSwiIhLBLCIiEsEsIiISwSwiIhLBLCIiEsEsIiISwSwiIhLBLCIiEsEsIiISwSwiIhLBJfV9/A/7xer6XX3/1/gZ70eU0sEsIiISwSwiIhLBLCIiEsEiP2WEf7m9U9zVnvU9vh85pYJIRFQlgkhEVCWCSERUJYJEbssc5ytL+5at8zec9UM7FICIuEsEgIi4SwSAiLhLBIPGqPdWR1v1VfdwcmFglhkRAWCWGREBYJYZEQFokt9lhHdt4z1UwsEsIiISwSwiIhLBLCIiEsEh/dY+18zq4w7RzlTyYWCWGREBYJYZEQFglhkRAWiS1+jzVhr/Mbd7nP3zCxSAiLhLBICIuEsEgIi4SwSDxqj1U/72r1ulc9l2sCE4uEsEgIi4SwSAiLhLBICIvE7D3W9/fSy6/63dLqdZfvc/F7mMDEIiEsEsIiISwSwiIhLBLCIjF7j3WSs87rTXufyUwsEsIiISwSwiIhLBLCIiEsEq8Ju5N6r3OXc3xP2oeZWCSERUJYJIRFQlgkhEVCWCRG7LGOTN7TfNIdvwcTi4SwSAiLhLBICIuEsEgIi8Toc4U7Pyf9p8n7qiMmFglhkRAWCWGREBYJYZEQFonRe6wjd9zr7MbEIiEsEsIiISwSwiIhLBLCIiEsEsIiISwSwiIhLBLCIiEsEsIiISwSwiIhLBLCIiEsEsIiISwSwiIhLBLCIiEsEsIiISwSwiIhLBLCIiEsEsIiISwSwiIhLBLCIiEsEsIiISwSwiIhLBLCIiEsEsIiISwSwiIhLBLCIiEsEsIi8S8AAP//HtRtH09JwIEAAAAASUVORK5CYII=)\n",
        "#El siguiente notebook fue diseñado por Pablo Marinozi como el primer trabajo práctico correspondiente a la versión de Otoño del 2021 del curso Aprendizaje Profundo organizado por Datitos \n",
        "#Para mayor información consultar https://datitos.github.io/curso-aprendizaje-profundo/#calendario"
      ],
      "execution_count": null,
      "outputs": []
    },
    {
      "cell_type": "markdown",
      "metadata": {
        "id": "Gl4P6BiNsgI9"
      },
      "source": [
        "# Trabajo Práctico N°1: Preprocesamiento y Manipulación de Datos"
      ]
    },
    {
      "cell_type": "markdown",
      "metadata": {
        "id": "YAJ4BdmGsyDZ"
      },
      "source": [
        "Este trabajo práctico tiene dos partes.\n",
        "\n",
        "El objetivo de la primera es aprender cómo preprocesar datos usando la biblioteca `pandas`.\n",
        "\n",
        "El objetivo de la segunda es realizar ejercicios para reforzar el manejo de tensores con `Pytorch`."
      ]
    },
    {
      "cell_type": "markdown",
      "metadata": {
        "id": "xjsWU7ngi4Xr"
      },
      "source": [
        "## Parte 0: Importar Librerías"
      ]
    },
    {
      "cell_type": "code",
      "metadata": {
        "id": "LVw1QNI9i9ro"
      },
      "source": [
        "import pandas as pd\n",
        "import numpy as np\n",
        "import matplotlib.pyplot as plt \n",
        "import torch"
      ],
      "execution_count": 1,
      "outputs": []
    },
    {
      "cell_type": "markdown",
      "metadata": {
        "id": "gFc0axFhlD_X"
      },
      "source": [
        "## Parte 1: Preprocesamiento de Datos"
      ]
    },
    {
      "cell_type": "markdown",
      "metadata": {
        "id": "004NAgMAtymc"
      },
      "source": [
        "### Valores Faltantes\n",
        "\n"
      ]
    },
    {
      "cell_type": "markdown",
      "metadata": {
        "id": "6KD1j4I6uLQ-"
      },
      "source": [
        "En esta sección del práctico vamos a trabajar con el dataset relacionado a la hepatitis. El siguiente código descarga el csv."
      ]
    },
    {
      "cell_type": "code",
      "metadata": {
        "id": "UBLn0rBhtx9U",
        "colab": {
          "base_uri": "https://localhost:8080/"
        },
        "outputId": "36260036-858c-4345-f828-bff6c4fe67ff"
      },
      "source": [
        "!gdown https://drive.google.com/uc?id=1UmZdyg15LEmlNIqCbpQTChdpPKoHcru1"
      ],
      "execution_count": 2,
      "outputs": [
        {
          "output_type": "stream",
          "text": [
            "Downloading...\n",
            "From: https://drive.google.com/uc?id=1UmZdyg15LEmlNIqCbpQTChdpPKoHcru1\n",
            "To: /content/hepatitis_csv.csv\n",
            "\r  0% 0.00/15.2k [00:00<?, ?B/s]\r100% 15.2k/15.2k [00:00<00:00, 23.4MB/s]\n"
          ],
          "name": "stdout"
        }
      ]
    },
    {
      "cell_type": "markdown",
      "metadata": {
        "id": "NCJw75dTwEmy"
      },
      "source": [
        "En primer lugar, importe los datos del archivo utilizando la biblioteca de `pandas` y conviértalos en un dataframe con la funcion `read_csv()`. Luego, a través del método `head(10)` imprima por pantalla solo las primeras 10 filas del conjunto de datos."
      ]
    },
    {
      "cell_type": "code",
      "metadata": {
        "id": "cheUum0AosZB",
        "colab": {
          "base_uri": "https://localhost:8080/",
          "height": 363
        },
        "outputId": "69291561-b2c9-4ceb-ed77-79dd7aa4b6d9"
      },
      "source": [
        "url=\"https://drive.google.com/uc?id=1UmZdyg15LEmlNIqCbpQTChdpPKoHcru1\"\n",
        "df = pd.read_csv(url)\n",
        "df.head(10) "
      ],
      "execution_count": 4,
      "outputs": [
        {
          "output_type": "execute_result",
          "data": {
            "text/html": [
              "<div>\n",
              "<style scoped>\n",
              "    .dataframe tbody tr th:only-of-type {\n",
              "        vertical-align: middle;\n",
              "    }\n",
              "\n",
              "    .dataframe tbody tr th {\n",
              "        vertical-align: top;\n",
              "    }\n",
              "\n",
              "    .dataframe thead th {\n",
              "        text-align: right;\n",
              "    }\n",
              "</style>\n",
              "<table border=\"1\" class=\"dataframe\">\n",
              "  <thead>\n",
              "    <tr style=\"text-align: right;\">\n",
              "      <th></th>\n",
              "      <th>age</th>\n",
              "      <th>sex</th>\n",
              "      <th>steroid</th>\n",
              "      <th>antivirals</th>\n",
              "      <th>fatigue</th>\n",
              "      <th>malaise</th>\n",
              "      <th>anorexia</th>\n",
              "      <th>liver_big</th>\n",
              "      <th>liver_firm</th>\n",
              "      <th>spleen_palpable</th>\n",
              "      <th>spiders</th>\n",
              "      <th>ascites</th>\n",
              "      <th>varices</th>\n",
              "      <th>bilirubin</th>\n",
              "      <th>alk_phosphate</th>\n",
              "      <th>sgot</th>\n",
              "      <th>albumin</th>\n",
              "      <th>protime</th>\n",
              "      <th>histology</th>\n",
              "      <th>class</th>\n",
              "    </tr>\n",
              "  </thead>\n",
              "  <tbody>\n",
              "    <tr>\n",
              "      <th>0</th>\n",
              "      <td>30</td>\n",
              "      <td>male</td>\n",
              "      <td>False</td>\n",
              "      <td>False</td>\n",
              "      <td>False</td>\n",
              "      <td>False</td>\n",
              "      <td>False</td>\n",
              "      <td>False</td>\n",
              "      <td>False</td>\n",
              "      <td>False</td>\n",
              "      <td>False</td>\n",
              "      <td>False</td>\n",
              "      <td>False</td>\n",
              "      <td>1.0</td>\n",
              "      <td>85.0</td>\n",
              "      <td>18.0</td>\n",
              "      <td>4.0</td>\n",
              "      <td>NaN</td>\n",
              "      <td>False</td>\n",
              "      <td>live</td>\n",
              "    </tr>\n",
              "    <tr>\n",
              "      <th>1</th>\n",
              "      <td>50</td>\n",
              "      <td>female</td>\n",
              "      <td>False</td>\n",
              "      <td>False</td>\n",
              "      <td>True</td>\n",
              "      <td>False</td>\n",
              "      <td>False</td>\n",
              "      <td>False</td>\n",
              "      <td>False</td>\n",
              "      <td>False</td>\n",
              "      <td>False</td>\n",
              "      <td>False</td>\n",
              "      <td>False</td>\n",
              "      <td>0.9</td>\n",
              "      <td>135.0</td>\n",
              "      <td>42.0</td>\n",
              "      <td>3.5</td>\n",
              "      <td>NaN</td>\n",
              "      <td>False</td>\n",
              "      <td>live</td>\n",
              "    </tr>\n",
              "    <tr>\n",
              "      <th>2</th>\n",
              "      <td>78</td>\n",
              "      <td>female</td>\n",
              "      <td>True</td>\n",
              "      <td>False</td>\n",
              "      <td>True</td>\n",
              "      <td>False</td>\n",
              "      <td>False</td>\n",
              "      <td>True</td>\n",
              "      <td>False</td>\n",
              "      <td>False</td>\n",
              "      <td>False</td>\n",
              "      <td>False</td>\n",
              "      <td>False</td>\n",
              "      <td>0.7</td>\n",
              "      <td>96.0</td>\n",
              "      <td>32.0</td>\n",
              "      <td>4.0</td>\n",
              "      <td>NaN</td>\n",
              "      <td>False</td>\n",
              "      <td>live</td>\n",
              "    </tr>\n",
              "    <tr>\n",
              "      <th>3</th>\n",
              "      <td>31</td>\n",
              "      <td>female</td>\n",
              "      <td>NaN</td>\n",
              "      <td>True</td>\n",
              "      <td>False</td>\n",
              "      <td>False</td>\n",
              "      <td>False</td>\n",
              "      <td>True</td>\n",
              "      <td>False</td>\n",
              "      <td>False</td>\n",
              "      <td>False</td>\n",
              "      <td>False</td>\n",
              "      <td>False</td>\n",
              "      <td>0.7</td>\n",
              "      <td>46.0</td>\n",
              "      <td>52.0</td>\n",
              "      <td>4.0</td>\n",
              "      <td>80.0</td>\n",
              "      <td>False</td>\n",
              "      <td>live</td>\n",
              "    </tr>\n",
              "    <tr>\n",
              "      <th>4</th>\n",
              "      <td>34</td>\n",
              "      <td>female</td>\n",
              "      <td>True</td>\n",
              "      <td>False</td>\n",
              "      <td>False</td>\n",
              "      <td>False</td>\n",
              "      <td>False</td>\n",
              "      <td>True</td>\n",
              "      <td>False</td>\n",
              "      <td>False</td>\n",
              "      <td>False</td>\n",
              "      <td>False</td>\n",
              "      <td>False</td>\n",
              "      <td>1.0</td>\n",
              "      <td>NaN</td>\n",
              "      <td>200.0</td>\n",
              "      <td>4.0</td>\n",
              "      <td>NaN</td>\n",
              "      <td>False</td>\n",
              "      <td>live</td>\n",
              "    </tr>\n",
              "    <tr>\n",
              "      <th>5</th>\n",
              "      <td>34</td>\n",
              "      <td>female</td>\n",
              "      <td>True</td>\n",
              "      <td>False</td>\n",
              "      <td>False</td>\n",
              "      <td>False</td>\n",
              "      <td>False</td>\n",
              "      <td>True</td>\n",
              "      <td>False</td>\n",
              "      <td>False</td>\n",
              "      <td>False</td>\n",
              "      <td>False</td>\n",
              "      <td>False</td>\n",
              "      <td>0.9</td>\n",
              "      <td>95.0</td>\n",
              "      <td>28.0</td>\n",
              "      <td>4.0</td>\n",
              "      <td>75.0</td>\n",
              "      <td>False</td>\n",
              "      <td>live</td>\n",
              "    </tr>\n",
              "    <tr>\n",
              "      <th>6</th>\n",
              "      <td>51</td>\n",
              "      <td>female</td>\n",
              "      <td>False</td>\n",
              "      <td>False</td>\n",
              "      <td>True</td>\n",
              "      <td>False</td>\n",
              "      <td>True</td>\n",
              "      <td>True</td>\n",
              "      <td>False</td>\n",
              "      <td>True</td>\n",
              "      <td>True</td>\n",
              "      <td>False</td>\n",
              "      <td>False</td>\n",
              "      <td>NaN</td>\n",
              "      <td>NaN</td>\n",
              "      <td>NaN</td>\n",
              "      <td>NaN</td>\n",
              "      <td>NaN</td>\n",
              "      <td>False</td>\n",
              "      <td>die</td>\n",
              "    </tr>\n",
              "    <tr>\n",
              "      <th>7</th>\n",
              "      <td>23</td>\n",
              "      <td>female</td>\n",
              "      <td>True</td>\n",
              "      <td>False</td>\n",
              "      <td>False</td>\n",
              "      <td>False</td>\n",
              "      <td>False</td>\n",
              "      <td>True</td>\n",
              "      <td>False</td>\n",
              "      <td>False</td>\n",
              "      <td>False</td>\n",
              "      <td>False</td>\n",
              "      <td>False</td>\n",
              "      <td>1.0</td>\n",
              "      <td>NaN</td>\n",
              "      <td>NaN</td>\n",
              "      <td>NaN</td>\n",
              "      <td>NaN</td>\n",
              "      <td>False</td>\n",
              "      <td>live</td>\n",
              "    </tr>\n",
              "    <tr>\n",
              "      <th>8</th>\n",
              "      <td>39</td>\n",
              "      <td>female</td>\n",
              "      <td>True</td>\n",
              "      <td>False</td>\n",
              "      <td>True</td>\n",
              "      <td>False</td>\n",
              "      <td>False</td>\n",
              "      <td>True</td>\n",
              "      <td>True</td>\n",
              "      <td>False</td>\n",
              "      <td>False</td>\n",
              "      <td>False</td>\n",
              "      <td>False</td>\n",
              "      <td>0.7</td>\n",
              "      <td>NaN</td>\n",
              "      <td>48.0</td>\n",
              "      <td>4.4</td>\n",
              "      <td>NaN</td>\n",
              "      <td>False</td>\n",
              "      <td>live</td>\n",
              "    </tr>\n",
              "    <tr>\n",
              "      <th>9</th>\n",
              "      <td>30</td>\n",
              "      <td>female</td>\n",
              "      <td>True</td>\n",
              "      <td>False</td>\n",
              "      <td>False</td>\n",
              "      <td>False</td>\n",
              "      <td>False</td>\n",
              "      <td>True</td>\n",
              "      <td>False</td>\n",
              "      <td>False</td>\n",
              "      <td>False</td>\n",
              "      <td>False</td>\n",
              "      <td>False</td>\n",
              "      <td>1.0</td>\n",
              "      <td>NaN</td>\n",
              "      <td>120.0</td>\n",
              "      <td>3.9</td>\n",
              "      <td>NaN</td>\n",
              "      <td>False</td>\n",
              "      <td>live</td>\n",
              "    </tr>\n",
              "  </tbody>\n",
              "</table>\n",
              "</div>"
            ],
            "text/plain": [
              "   age     sex steroid  antivirals  ... albumin protime histology class\n",
              "0   30    male   False       False  ...     4.0     NaN     False  live\n",
              "1   50  female   False       False  ...     3.5     NaN     False  live\n",
              "2   78  female    True       False  ...     4.0     NaN     False  live\n",
              "3   31  female     NaN        True  ...     4.0    80.0     False  live\n",
              "4   34  female    True       False  ...     4.0     NaN     False  live\n",
              "5   34  female    True       False  ...     4.0    75.0     False  live\n",
              "6   51  female   False       False  ...     NaN     NaN     False   die\n",
              "7   23  female    True       False  ...     NaN     NaN     False  live\n",
              "8   39  female    True       False  ...     4.4     NaN     False  live\n",
              "9   30  female    True       False  ...     3.9     NaN     False  live\n",
              "\n",
              "[10 rows x 20 columns]"
            ]
          },
          "metadata": {
            "tags": []
          },
          "execution_count": 4
        }
      ]
    },
    {
      "cell_type": "markdown",
      "metadata": {
        "id": "Zq73YMCwwfYf"
      },
      "source": [
        "Observamos que el dataset presenta algunos problemas. Por ejemplo, el valor de la columna `albumin` no está disponible para todas las filas. En algunos casos presenta el valor NaN, lo que significa que falta el valor.\n",
        "\n",
        "Para verificar si nuestro dataset contiene valores faltantes, podemos usar la función `isna()`, que devuelve si una celda del conjunto de datos es NaN o no. Luego, deberemos contar cuántos valores faltantes hay para cada columna. "
      ]
    },
    {
      "cell_type": "code",
      "metadata": {
        "id": "9YnV7CyFxrUj",
        "colab": {
          "base_uri": "https://localhost:8080/"
        },
        "outputId": "e4f29129-db1e-4dbd-d706-df21081f08a4"
      },
      "source": [
        "df.isna().sum()    #Sumo los valores NA por columna\n",
        "\n"
      ],
      "execution_count": 12,
      "outputs": [
        {
          "output_type": "execute_result",
          "data": {
            "text/plain": [
              "age                 0\n",
              "sex                 0\n",
              "steroid             1\n",
              "antivirals          0\n",
              "fatigue             1\n",
              "malaise             1\n",
              "anorexia            1\n",
              "liver_big          10\n",
              "liver_firm         11\n",
              "spleen_palpable     5\n",
              "spiders             5\n",
              "ascites             5\n",
              "varices             5\n",
              "bilirubin           6\n",
              "alk_phosphate      29\n",
              "sgot                4\n",
              "albumin            16\n",
              "protime            67\n",
              "histology           0\n",
              "class               0\n",
              "dtype: int64"
            ]
          },
          "metadata": {
            "tags": []
          },
          "execution_count": 12
        }
      ]
    },
    {
      "cell_type": "markdown",
      "metadata": {
        "id": "QnKSp5Udybeq"
      },
      "source": [
        "Cuando se trata de valores faltantes, se pueden aplicar diferentes estrategias:\n",
        "\n",
        "* ponerse en contacto con la fuente de datos para corregir los valores faltantes,\n",
        "* eliminar los valores faltantes,\n",
        "* reemplazar el valor faltante con algún valor y\n",
        "* dejar el valor faltante como está.\n",
        "\n",
        "La primera estrategia no siempre es factible y no creemos que necesiten nuestra ayuda para adoptar la última. En las siguientes subsecciones analizaremos las dos estrategias restantes."
      ]
    },
    {
      "cell_type": "markdown",
      "metadata": {
        "id": "Cm0ZeSzjzNnj"
      },
      "source": [
        "#### Eliminar los valores faltantes"
      ]
    },
    {
      "cell_type": "markdown",
      "metadata": {
        "id": "sNKd1oP6zRKh"
      },
      "source": [
        "Hay dos maneras de eliminar los valores faltantes:\n",
        "\n",
        "* eliminar las filas que contengan valores faltantes\n",
        "* eliminar las columnas que los contengan.\n",
        "\n",
        "Podemos usar `dropna()` para esta tarea especificando el eje a considerar. Si configuramos `axis=0`, descartamos toda la fila, si configuramos `axis=1`, descartamos toda la columna. \n",
        "\n",
        "Genere dos versiones nuevas del dataset utilizando la estrategia correspondiente en cada caso y analice los tamaños de los dataframes resultantes. "
      ]
    },
    {
      "cell_type": "code",
      "metadata": {
        "id": "vdTWAvwk0RK5",
        "colab": {
          "base_uri": "https://localhost:8080/",
          "height": 422
        },
        "outputId": "9162d5a9-d986-41c5-9e8d-abf1c732b18a"
      },
      "source": [
        "#Eliminando NA por filas (axis=0)\n",
        "df_filas = df.dropna(axis=0)\n",
        "df_filas\n"
      ],
      "execution_count": 17,
      "outputs": [
        {
          "output_type": "execute_result",
          "data": {
            "text/html": [
              "<div>\n",
              "<style scoped>\n",
              "    .dataframe tbody tr th:only-of-type {\n",
              "        vertical-align: middle;\n",
              "    }\n",
              "\n",
              "    .dataframe tbody tr th {\n",
              "        vertical-align: top;\n",
              "    }\n",
              "\n",
              "    .dataframe thead th {\n",
              "        text-align: right;\n",
              "    }\n",
              "</style>\n",
              "<table border=\"1\" class=\"dataframe\">\n",
              "  <thead>\n",
              "    <tr style=\"text-align: right;\">\n",
              "      <th></th>\n",
              "      <th>age</th>\n",
              "      <th>sex</th>\n",
              "      <th>steroid</th>\n",
              "      <th>antivirals</th>\n",
              "      <th>fatigue</th>\n",
              "      <th>malaise</th>\n",
              "      <th>anorexia</th>\n",
              "      <th>liver_big</th>\n",
              "      <th>liver_firm</th>\n",
              "      <th>spleen_palpable</th>\n",
              "      <th>spiders</th>\n",
              "      <th>ascites</th>\n",
              "      <th>varices</th>\n",
              "      <th>bilirubin</th>\n",
              "      <th>alk_phosphate</th>\n",
              "      <th>sgot</th>\n",
              "      <th>albumin</th>\n",
              "      <th>protime</th>\n",
              "      <th>histology</th>\n",
              "      <th>class</th>\n",
              "    </tr>\n",
              "  </thead>\n",
              "  <tbody>\n",
              "    <tr>\n",
              "      <th>5</th>\n",
              "      <td>34</td>\n",
              "      <td>female</td>\n",
              "      <td>True</td>\n",
              "      <td>False</td>\n",
              "      <td>False</td>\n",
              "      <td>False</td>\n",
              "      <td>False</td>\n",
              "      <td>True</td>\n",
              "      <td>False</td>\n",
              "      <td>False</td>\n",
              "      <td>False</td>\n",
              "      <td>False</td>\n",
              "      <td>False</td>\n",
              "      <td>0.9</td>\n",
              "      <td>95.0</td>\n",
              "      <td>28.0</td>\n",
              "      <td>4.0</td>\n",
              "      <td>75.0</td>\n",
              "      <td>False</td>\n",
              "      <td>live</td>\n",
              "    </tr>\n",
              "    <tr>\n",
              "      <th>10</th>\n",
              "      <td>39</td>\n",
              "      <td>female</td>\n",
              "      <td>False</td>\n",
              "      <td>True</td>\n",
              "      <td>False</td>\n",
              "      <td>False</td>\n",
              "      <td>False</td>\n",
              "      <td>False</td>\n",
              "      <td>True</td>\n",
              "      <td>False</td>\n",
              "      <td>False</td>\n",
              "      <td>False</td>\n",
              "      <td>False</td>\n",
              "      <td>1.3</td>\n",
              "      <td>78.0</td>\n",
              "      <td>30.0</td>\n",
              "      <td>4.4</td>\n",
              "      <td>85.0</td>\n",
              "      <td>False</td>\n",
              "      <td>live</td>\n",
              "    </tr>\n",
              "    <tr>\n",
              "      <th>11</th>\n",
              "      <td>32</td>\n",
              "      <td>female</td>\n",
              "      <td>True</td>\n",
              "      <td>True</td>\n",
              "      <td>True</td>\n",
              "      <td>False</td>\n",
              "      <td>False</td>\n",
              "      <td>True</td>\n",
              "      <td>True</td>\n",
              "      <td>False</td>\n",
              "      <td>True</td>\n",
              "      <td>False</td>\n",
              "      <td>False</td>\n",
              "      <td>1.0</td>\n",
              "      <td>59.0</td>\n",
              "      <td>249.0</td>\n",
              "      <td>3.7</td>\n",
              "      <td>54.0</td>\n",
              "      <td>False</td>\n",
              "      <td>live</td>\n",
              "    </tr>\n",
              "    <tr>\n",
              "      <th>12</th>\n",
              "      <td>41</td>\n",
              "      <td>female</td>\n",
              "      <td>True</td>\n",
              "      <td>True</td>\n",
              "      <td>True</td>\n",
              "      <td>False</td>\n",
              "      <td>False</td>\n",
              "      <td>True</td>\n",
              "      <td>True</td>\n",
              "      <td>False</td>\n",
              "      <td>False</td>\n",
              "      <td>False</td>\n",
              "      <td>False</td>\n",
              "      <td>0.9</td>\n",
              "      <td>81.0</td>\n",
              "      <td>60.0</td>\n",
              "      <td>3.9</td>\n",
              "      <td>52.0</td>\n",
              "      <td>False</td>\n",
              "      <td>live</td>\n",
              "    </tr>\n",
              "    <tr>\n",
              "      <th>13</th>\n",
              "      <td>30</td>\n",
              "      <td>female</td>\n",
              "      <td>True</td>\n",
              "      <td>False</td>\n",
              "      <td>True</td>\n",
              "      <td>False</td>\n",
              "      <td>False</td>\n",
              "      <td>True</td>\n",
              "      <td>True</td>\n",
              "      <td>False</td>\n",
              "      <td>False</td>\n",
              "      <td>False</td>\n",
              "      <td>False</td>\n",
              "      <td>2.2</td>\n",
              "      <td>57.0</td>\n",
              "      <td>144.0</td>\n",
              "      <td>4.9</td>\n",
              "      <td>78.0</td>\n",
              "      <td>False</td>\n",
              "      <td>live</td>\n",
              "    </tr>\n",
              "    <tr>\n",
              "      <th>...</th>\n",
              "      <td>...</td>\n",
              "      <td>...</td>\n",
              "      <td>...</td>\n",
              "      <td>...</td>\n",
              "      <td>...</td>\n",
              "      <td>...</td>\n",
              "      <td>...</td>\n",
              "      <td>...</td>\n",
              "      <td>...</td>\n",
              "      <td>...</td>\n",
              "      <td>...</td>\n",
              "      <td>...</td>\n",
              "      <td>...</td>\n",
              "      <td>...</td>\n",
              "      <td>...</td>\n",
              "      <td>...</td>\n",
              "      <td>...</td>\n",
              "      <td>...</td>\n",
              "      <td>...</td>\n",
              "      <td>...</td>\n",
              "    </tr>\n",
              "    <tr>\n",
              "      <th>139</th>\n",
              "      <td>45</td>\n",
              "      <td>female</td>\n",
              "      <td>True</td>\n",
              "      <td>True</td>\n",
              "      <td>False</td>\n",
              "      <td>False</td>\n",
              "      <td>False</td>\n",
              "      <td>True</td>\n",
              "      <td>False</td>\n",
              "      <td>False</td>\n",
              "      <td>False</td>\n",
              "      <td>False</td>\n",
              "      <td>False</td>\n",
              "      <td>1.3</td>\n",
              "      <td>85.0</td>\n",
              "      <td>44.0</td>\n",
              "      <td>4.2</td>\n",
              "      <td>85.0</td>\n",
              "      <td>True</td>\n",
              "      <td>live</td>\n",
              "    </tr>\n",
              "    <tr>\n",
              "      <th>143</th>\n",
              "      <td>49</td>\n",
              "      <td>female</td>\n",
              "      <td>False</td>\n",
              "      <td>False</td>\n",
              "      <td>True</td>\n",
              "      <td>True</td>\n",
              "      <td>False</td>\n",
              "      <td>True</td>\n",
              "      <td>False</td>\n",
              "      <td>True</td>\n",
              "      <td>True</td>\n",
              "      <td>False</td>\n",
              "      <td>False</td>\n",
              "      <td>1.4</td>\n",
              "      <td>85.0</td>\n",
              "      <td>70.0</td>\n",
              "      <td>3.5</td>\n",
              "      <td>35.0</td>\n",
              "      <td>True</td>\n",
              "      <td>die</td>\n",
              "    </tr>\n",
              "    <tr>\n",
              "      <th>145</th>\n",
              "      <td>31</td>\n",
              "      <td>female</td>\n",
              "      <td>False</td>\n",
              "      <td>False</td>\n",
              "      <td>True</td>\n",
              "      <td>False</td>\n",
              "      <td>False</td>\n",
              "      <td>True</td>\n",
              "      <td>False</td>\n",
              "      <td>False</td>\n",
              "      <td>False</td>\n",
              "      <td>False</td>\n",
              "      <td>False</td>\n",
              "      <td>1.2</td>\n",
              "      <td>75.0</td>\n",
              "      <td>173.0</td>\n",
              "      <td>4.2</td>\n",
              "      <td>54.0</td>\n",
              "      <td>True</td>\n",
              "      <td>live</td>\n",
              "    </tr>\n",
              "    <tr>\n",
              "      <th>153</th>\n",
              "      <td>53</td>\n",
              "      <td>male</td>\n",
              "      <td>False</td>\n",
              "      <td>False</td>\n",
              "      <td>True</td>\n",
              "      <td>False</td>\n",
              "      <td>False</td>\n",
              "      <td>True</td>\n",
              "      <td>False</td>\n",
              "      <td>True</td>\n",
              "      <td>True</td>\n",
              "      <td>False</td>\n",
              "      <td>True</td>\n",
              "      <td>1.5</td>\n",
              "      <td>81.0</td>\n",
              "      <td>19.0</td>\n",
              "      <td>4.1</td>\n",
              "      <td>48.0</td>\n",
              "      <td>True</td>\n",
              "      <td>live</td>\n",
              "    </tr>\n",
              "    <tr>\n",
              "      <th>154</th>\n",
              "      <td>43</td>\n",
              "      <td>female</td>\n",
              "      <td>True</td>\n",
              "      <td>False</td>\n",
              "      <td>True</td>\n",
              "      <td>False</td>\n",
              "      <td>False</td>\n",
              "      <td>True</td>\n",
              "      <td>False</td>\n",
              "      <td>True</td>\n",
              "      <td>True</td>\n",
              "      <td>True</td>\n",
              "      <td>False</td>\n",
              "      <td>1.2</td>\n",
              "      <td>100.0</td>\n",
              "      <td>19.0</td>\n",
              "      <td>3.1</td>\n",
              "      <td>42.0</td>\n",
              "      <td>True</td>\n",
              "      <td>die</td>\n",
              "    </tr>\n",
              "  </tbody>\n",
              "</table>\n",
              "<p>80 rows × 20 columns</p>\n",
              "</div>"
            ],
            "text/plain": [
              "     age     sex steroid  antivirals  ... albumin protime histology class\n",
              "5     34  female    True       False  ...     4.0    75.0     False  live\n",
              "10    39  female   False        True  ...     4.4    85.0     False  live\n",
              "11    32  female    True        True  ...     3.7    54.0     False  live\n",
              "12    41  female    True        True  ...     3.9    52.0     False  live\n",
              "13    30  female    True       False  ...     4.9    78.0     False  live\n",
              "..   ...     ...     ...         ...  ...     ...     ...       ...   ...\n",
              "139   45  female    True        True  ...     4.2    85.0      True  live\n",
              "143   49  female   False       False  ...     3.5    35.0      True   die\n",
              "145   31  female   False       False  ...     4.2    54.0      True  live\n",
              "153   53    male   False       False  ...     4.1    48.0      True  live\n",
              "154   43  female    True       False  ...     3.1    42.0      True   die\n",
              "\n",
              "[80 rows x 20 columns]"
            ]
          },
          "metadata": {
            "tags": []
          },
          "execution_count": 17
        }
      ]
    },
    {
      "cell_type": "code",
      "metadata": {
        "colab": {
          "base_uri": "https://localhost:8080/",
          "height": 402
        },
        "id": "CzYB_GOdYKlo",
        "outputId": "808e63c5-3e8f-4680-8175-b489b8c77356"
      },
      "source": [
        "#Eliminando NA por columnas (axis=1)\n",
        "df_col = df.dropna(axis=1) \n",
        "df_col\n"
      ],
      "execution_count": 19,
      "outputs": [
        {
          "output_type": "execute_result",
          "data": {
            "text/html": [
              "<div>\n",
              "<style scoped>\n",
              "    .dataframe tbody tr th:only-of-type {\n",
              "        vertical-align: middle;\n",
              "    }\n",
              "\n",
              "    .dataframe tbody tr th {\n",
              "        vertical-align: top;\n",
              "    }\n",
              "\n",
              "    .dataframe thead th {\n",
              "        text-align: right;\n",
              "    }\n",
              "</style>\n",
              "<table border=\"1\" class=\"dataframe\">\n",
              "  <thead>\n",
              "    <tr style=\"text-align: right;\">\n",
              "      <th></th>\n",
              "      <th>age</th>\n",
              "      <th>sex</th>\n",
              "      <th>antivirals</th>\n",
              "      <th>histology</th>\n",
              "      <th>class</th>\n",
              "    </tr>\n",
              "  </thead>\n",
              "  <tbody>\n",
              "    <tr>\n",
              "      <th>0</th>\n",
              "      <td>30</td>\n",
              "      <td>male</td>\n",
              "      <td>False</td>\n",
              "      <td>False</td>\n",
              "      <td>live</td>\n",
              "    </tr>\n",
              "    <tr>\n",
              "      <th>1</th>\n",
              "      <td>50</td>\n",
              "      <td>female</td>\n",
              "      <td>False</td>\n",
              "      <td>False</td>\n",
              "      <td>live</td>\n",
              "    </tr>\n",
              "    <tr>\n",
              "      <th>2</th>\n",
              "      <td>78</td>\n",
              "      <td>female</td>\n",
              "      <td>False</td>\n",
              "      <td>False</td>\n",
              "      <td>live</td>\n",
              "    </tr>\n",
              "    <tr>\n",
              "      <th>3</th>\n",
              "      <td>31</td>\n",
              "      <td>female</td>\n",
              "      <td>True</td>\n",
              "      <td>False</td>\n",
              "      <td>live</td>\n",
              "    </tr>\n",
              "    <tr>\n",
              "      <th>4</th>\n",
              "      <td>34</td>\n",
              "      <td>female</td>\n",
              "      <td>False</td>\n",
              "      <td>False</td>\n",
              "      <td>live</td>\n",
              "    </tr>\n",
              "    <tr>\n",
              "      <th>...</th>\n",
              "      <td>...</td>\n",
              "      <td>...</td>\n",
              "      <td>...</td>\n",
              "      <td>...</td>\n",
              "      <td>...</td>\n",
              "    </tr>\n",
              "    <tr>\n",
              "      <th>150</th>\n",
              "      <td>46</td>\n",
              "      <td>female</td>\n",
              "      <td>False</td>\n",
              "      <td>True</td>\n",
              "      <td>die</td>\n",
              "    </tr>\n",
              "    <tr>\n",
              "      <th>151</th>\n",
              "      <td>44</td>\n",
              "      <td>female</td>\n",
              "      <td>False</td>\n",
              "      <td>True</td>\n",
              "      <td>live</td>\n",
              "    </tr>\n",
              "    <tr>\n",
              "      <th>152</th>\n",
              "      <td>61</td>\n",
              "      <td>female</td>\n",
              "      <td>False</td>\n",
              "      <td>True</td>\n",
              "      <td>live</td>\n",
              "    </tr>\n",
              "    <tr>\n",
              "      <th>153</th>\n",
              "      <td>53</td>\n",
              "      <td>male</td>\n",
              "      <td>False</td>\n",
              "      <td>True</td>\n",
              "      <td>live</td>\n",
              "    </tr>\n",
              "    <tr>\n",
              "      <th>154</th>\n",
              "      <td>43</td>\n",
              "      <td>female</td>\n",
              "      <td>False</td>\n",
              "      <td>True</td>\n",
              "      <td>die</td>\n",
              "    </tr>\n",
              "  </tbody>\n",
              "</table>\n",
              "<p>155 rows × 5 columns</p>\n",
              "</div>"
            ],
            "text/plain": [
              "     age     sex  antivirals  histology class\n",
              "0     30    male       False      False  live\n",
              "1     50  female       False      False  live\n",
              "2     78  female       False      False  live\n",
              "3     31  female        True      False  live\n",
              "4     34  female       False      False  live\n",
              "..   ...     ...         ...        ...   ...\n",
              "150   46  female       False       True   die\n",
              "151   44  female       False       True  live\n",
              "152   61  female       False       True  live\n",
              "153   53    male       False       True  live\n",
              "154   43  female       False       True   die\n",
              "\n",
              "[155 rows x 5 columns]"
            ]
          },
          "metadata": {
            "tags": []
          },
          "execution_count": 19
        }
      ]
    },
    {
      "cell_type": "markdown",
      "metadata": {
        "id": "_n890lXfYYeV"
      },
      "source": [
        "#DISCUSIÓN\n",
        "En el caso de la eliminación de NA por filas (axis=0) se mantiene la cantidad de columnas pero se ve afectada en un 49% la dimensión de filas. En tanto que en el caso del axis =1 se mantiene la cantidad de filas ya que no se admite ningún valor NA en la columna pero se pierde mucha más información del dataset total."
      ]
    },
    {
      "cell_type": "markdown",
      "metadata": {
        "id": "hrsaRPHB0uoA"
      },
      "source": [
        "Como alternativa, podemos especificar solo la columna en la que se debe aplicar la operación de dropping. En el siguiente ejemplo, solo se consideran las filas faltantes relacionadas con la columna `liver_big`. Esto se puede lograr a través del parámetro `subset`, que permite especificar el subconjunto de columnas donde aplicar la operación de dropping. Verifique si siguen existiendo valores NaN en el resto de las columnas."
      ]
    },
    {
      "cell_type": "code",
      "metadata": {
        "id": "R3dyOOZl1KHD",
        "colab": {
          "base_uri": "https://localhost:8080/"
        },
        "outputId": "53b88027-e92c-4793-a9c8-0f427cbfe982"
      },
      "source": [
        "df_lb = df.dropna(subset=['liver_big'])\n",
        "df_lb.shape\n",
        "df_lb.isna().sum()\n",
        "\n"
      ],
      "execution_count": 25,
      "outputs": [
        {
          "output_type": "execute_result",
          "data": {
            "text/plain": [
              "age                 0\n",
              "sex                 0\n",
              "steroid             1\n",
              "antivirals          0\n",
              "fatigue             0\n",
              "malaise             0\n",
              "anorexia            0\n",
              "liver_big           0\n",
              "liver_firm          1\n",
              "spleen_palpable     1\n",
              "spiders             1\n",
              "ascites             1\n",
              "varices             1\n",
              "bilirubin           4\n",
              "alk_phosphate      24\n",
              "sgot                2\n",
              "albumin            13\n",
              "protime            59\n",
              "histology           0\n",
              "class               0\n",
              "dtype: int64"
            ]
          },
          "metadata": {
            "tags": []
          },
          "execution_count": 25
        }
      ]
    },
    {
      "cell_type": "markdown",
      "metadata": {
        "id": "xHtuaaol1jEj"
      },
      "source": [
        "Otra alternativa consiste en eliminar las columnas en las que se dispone de un cierto porcentaje de valores no nulos. Esto se puede lograr mediante el parámetro `thresh`. Intente utilizar este parámetro para mantener solo las columnas donde haya al menos el 80% de valores no nulos. "
      ]
    },
    {
      "cell_type": "code",
      "metadata": {
        "id": "hPv7dEWX1wgR",
        "colab": {
          "base_uri": "https://localhost:8080/"
        },
        "outputId": "c8bbae48-f134-45f4-8005-09219086e98b"
      },
      "source": [
        "df_thresh = df.dropna(axis=1,thresh=124)\n",
        "df_thresh.shape\n",
        "df_thresh.isna().sum()"
      ],
      "execution_count": 28,
      "outputs": [
        {
          "output_type": "execute_result",
          "data": {
            "text/plain": [
              "age                 0\n",
              "sex                 0\n",
              "steroid             1\n",
              "antivirals          0\n",
              "fatigue             1\n",
              "malaise             1\n",
              "anorexia            1\n",
              "liver_big          10\n",
              "liver_firm         11\n",
              "spleen_palpable     5\n",
              "spiders             5\n",
              "ascites             5\n",
              "varices             5\n",
              "bilirubin           6\n",
              "alk_phosphate      29\n",
              "sgot                4\n",
              "albumin            16\n",
              "histology           0\n",
              "class               0\n",
              "dtype: int64"
            ]
          },
          "metadata": {
            "tags": []
          },
          "execution_count": 28
        }
      ]
    },
    {
      "cell_type": "code",
      "metadata": {
        "id": "cnK87fVeVVCX"
      },
      "source": [
        ""
      ],
      "execution_count": null,
      "outputs": []
    },
    {
      "cell_type": "markdown",
      "metadata": {
        "id": "a19OeruY2Aza"
      },
      "source": [
        "#### Reemplazar valores faltantes "
      ]
    },
    {
      "cell_type": "markdown",
      "metadata": {
        "id": "nWnI069U2HUf"
      },
      "source": [
        "Una buena estrategia a la hora de trabajar son valores faltantes implica su reemplazo por otro valor. Por lo general, se adoptan las siguientes estrategias:\n",
        "\n",
        "* para valores numéricos, reemplazar el valor faltante con el valor promedio de la columna\n",
        "* para valores categóricos, reemplazar el valor faltante con el valor más frecuente de la columna"
      ]
    },
    {
      "cell_type": "markdown",
      "metadata": {
        "id": "Oi_aoDy52j35"
      },
      "source": [
        "Para averiguar el tipo de datos de las columnas podemos  usar el atributo `dtypes` de la siguiente manera"
      ]
    },
    {
      "cell_type": "code",
      "metadata": {
        "id": "03xEK7kQ2vTK",
        "colab": {
          "base_uri": "https://localhost:8080/"
        },
        "outputId": "d2c51134-c494-473e-b386-902471dbc79a"
      },
      "source": [
        "df.dtypes"
      ],
      "execution_count": 29,
      "outputs": [
        {
          "output_type": "execute_result",
          "data": {
            "text/plain": [
              "age                  int64\n",
              "sex                 object\n",
              "steroid             object\n",
              "antivirals            bool\n",
              "fatigue             object\n",
              "malaise             object\n",
              "anorexia            object\n",
              "liver_big           object\n",
              "liver_firm          object\n",
              "spleen_palpable     object\n",
              "spiders             object\n",
              "ascites             object\n",
              "varices             object\n",
              "bilirubin          float64\n",
              "alk_phosphate      float64\n",
              "sgot               float64\n",
              "albumin            float64\n",
              "protime            float64\n",
              "histology             bool\n",
              "class               object\n",
              "dtype: object"
            ]
          },
          "metadata": {
            "tags": []
          },
          "execution_count": 29
        }
      ]
    },
    {
      "cell_type": "markdown",
      "metadata": {
        "id": "LUerlADj9hTy"
      },
      "source": [
        "Usando la función `select_dtypes()` podemos generar una lista que contenga los nombres de las columnas numéricas y otra que contenga los de la columnas categóricas filtrando por `np.number `y `np.object` respectivamente."
      ]
    },
    {
      "cell_type": "code",
      "metadata": {
        "id": "ZqTFg5sz95pY",
        "colab": {
          "base_uri": "https://localhost:8080/"
        },
        "outputId": "37a3a3fa-e14a-4f96-f7fe-bc382f9eef7f"
      },
      "source": [
        "type_number = list(df.select_dtypes(np.number))\n",
        "type_number\n",
        "\n"
      ],
      "execution_count": 30,
      "outputs": [
        {
          "output_type": "execute_result",
          "data": {
            "text/plain": [
              "['age', 'bilirubin', 'alk_phosphate', 'sgot', 'albumin', 'protime']"
            ]
          },
          "metadata": {
            "tags": []
          },
          "execution_count": 30
        }
      ]
    },
    {
      "cell_type": "code",
      "metadata": {
        "colab": {
          "base_uri": "https://localhost:8080/"
        },
        "id": "m-VclCqWlwK9",
        "outputId": "9716db7e-9731-4974-9a8d-e65908d836d0"
      },
      "source": [
        "type_category = list(df.select_dtypes(np.object))\n",
        "type_category\n",
        "\n"
      ],
      "execution_count": 31,
      "outputs": [
        {
          "output_type": "execute_result",
          "data": {
            "text/plain": [
              "['sex',\n",
              " 'steroid',\n",
              " 'fatigue',\n",
              " 'malaise',\n",
              " 'anorexia',\n",
              " 'liver_big',\n",
              " 'liver_firm',\n",
              " 'spleen_palpable',\n",
              " 'spiders',\n",
              " 'ascites',\n",
              " 'varices',\n",
              " 'class']"
            ]
          },
          "metadata": {
            "tags": []
          },
          "execution_count": 31
        }
      ]
    },
    {
      "cell_type": "markdown",
      "metadata": {
        "id": "kUZwRAzL9MoB"
      },
      "source": [
        "En todos los casos podemos usar la función `fillna()` para reemplazar los valores faltantes con algún valor pasado como parámetro. En el caso de las variables numéricas deberíamos reemplazarlo por la media (`mean()`) y en el caso de las variables categóricas por la moda (`mode()`). Al finalizar, comprobar si aun quedan valores faltantes en el dataset."
      ]
    },
    {
      "cell_type": "code",
      "metadata": {
        "id": "u-dMdyFy52L8",
        "colab": {
          "base_uri": "https://localhost:8080/",
          "height": 422
        },
        "outputId": "df9c0fed-8e29-4d05-b6e3-850b003356e7"
      },
      "source": [
        "df.fillna(df.select_dtypes(np.number).mean())"
      ],
      "execution_count": 41,
      "outputs": [
        {
          "output_type": "execute_result",
          "data": {
            "text/html": [
              "<div>\n",
              "<style scoped>\n",
              "    .dataframe tbody tr th:only-of-type {\n",
              "        vertical-align: middle;\n",
              "    }\n",
              "\n",
              "    .dataframe tbody tr th {\n",
              "        vertical-align: top;\n",
              "    }\n",
              "\n",
              "    .dataframe thead th {\n",
              "        text-align: right;\n",
              "    }\n",
              "</style>\n",
              "<table border=\"1\" class=\"dataframe\">\n",
              "  <thead>\n",
              "    <tr style=\"text-align: right;\">\n",
              "      <th></th>\n",
              "      <th>age</th>\n",
              "      <th>sex</th>\n",
              "      <th>steroid</th>\n",
              "      <th>antivirals</th>\n",
              "      <th>fatigue</th>\n",
              "      <th>malaise</th>\n",
              "      <th>anorexia</th>\n",
              "      <th>liver_big</th>\n",
              "      <th>liver_firm</th>\n",
              "      <th>spleen_palpable</th>\n",
              "      <th>spiders</th>\n",
              "      <th>ascites</th>\n",
              "      <th>varices</th>\n",
              "      <th>bilirubin</th>\n",
              "      <th>alk_phosphate</th>\n",
              "      <th>sgot</th>\n",
              "      <th>albumin</th>\n",
              "      <th>protime</th>\n",
              "      <th>histology</th>\n",
              "      <th>class</th>\n",
              "    </tr>\n",
              "  </thead>\n",
              "  <tbody>\n",
              "    <tr>\n",
              "      <th>0</th>\n",
              "      <td>30</td>\n",
              "      <td>male</td>\n",
              "      <td>False</td>\n",
              "      <td>False</td>\n",
              "      <td>False</td>\n",
              "      <td>False</td>\n",
              "      <td>False</td>\n",
              "      <td>False</td>\n",
              "      <td>False</td>\n",
              "      <td>False</td>\n",
              "      <td>False</td>\n",
              "      <td>False</td>\n",
              "      <td>False</td>\n",
              "      <td>1.0</td>\n",
              "      <td>85.000000</td>\n",
              "      <td>18.0</td>\n",
              "      <td>4.0</td>\n",
              "      <td>61.852273</td>\n",
              "      <td>False</td>\n",
              "      <td>live</td>\n",
              "    </tr>\n",
              "    <tr>\n",
              "      <th>1</th>\n",
              "      <td>50</td>\n",
              "      <td>female</td>\n",
              "      <td>False</td>\n",
              "      <td>False</td>\n",
              "      <td>True</td>\n",
              "      <td>False</td>\n",
              "      <td>False</td>\n",
              "      <td>False</td>\n",
              "      <td>False</td>\n",
              "      <td>False</td>\n",
              "      <td>False</td>\n",
              "      <td>False</td>\n",
              "      <td>False</td>\n",
              "      <td>0.9</td>\n",
              "      <td>135.000000</td>\n",
              "      <td>42.0</td>\n",
              "      <td>3.5</td>\n",
              "      <td>61.852273</td>\n",
              "      <td>False</td>\n",
              "      <td>live</td>\n",
              "    </tr>\n",
              "    <tr>\n",
              "      <th>2</th>\n",
              "      <td>78</td>\n",
              "      <td>female</td>\n",
              "      <td>True</td>\n",
              "      <td>False</td>\n",
              "      <td>True</td>\n",
              "      <td>False</td>\n",
              "      <td>False</td>\n",
              "      <td>True</td>\n",
              "      <td>False</td>\n",
              "      <td>False</td>\n",
              "      <td>False</td>\n",
              "      <td>False</td>\n",
              "      <td>False</td>\n",
              "      <td>0.7</td>\n",
              "      <td>96.000000</td>\n",
              "      <td>32.0</td>\n",
              "      <td>4.0</td>\n",
              "      <td>61.852273</td>\n",
              "      <td>False</td>\n",
              "      <td>live</td>\n",
              "    </tr>\n",
              "    <tr>\n",
              "      <th>3</th>\n",
              "      <td>31</td>\n",
              "      <td>female</td>\n",
              "      <td>NaN</td>\n",
              "      <td>True</td>\n",
              "      <td>False</td>\n",
              "      <td>False</td>\n",
              "      <td>False</td>\n",
              "      <td>True</td>\n",
              "      <td>False</td>\n",
              "      <td>False</td>\n",
              "      <td>False</td>\n",
              "      <td>False</td>\n",
              "      <td>False</td>\n",
              "      <td>0.7</td>\n",
              "      <td>46.000000</td>\n",
              "      <td>52.0</td>\n",
              "      <td>4.0</td>\n",
              "      <td>80.000000</td>\n",
              "      <td>False</td>\n",
              "      <td>live</td>\n",
              "    </tr>\n",
              "    <tr>\n",
              "      <th>4</th>\n",
              "      <td>34</td>\n",
              "      <td>female</td>\n",
              "      <td>True</td>\n",
              "      <td>False</td>\n",
              "      <td>False</td>\n",
              "      <td>False</td>\n",
              "      <td>False</td>\n",
              "      <td>True</td>\n",
              "      <td>False</td>\n",
              "      <td>False</td>\n",
              "      <td>False</td>\n",
              "      <td>False</td>\n",
              "      <td>False</td>\n",
              "      <td>1.0</td>\n",
              "      <td>105.325397</td>\n",
              "      <td>200.0</td>\n",
              "      <td>4.0</td>\n",
              "      <td>61.852273</td>\n",
              "      <td>False</td>\n",
              "      <td>live</td>\n",
              "    </tr>\n",
              "    <tr>\n",
              "      <th>...</th>\n",
              "      <td>...</td>\n",
              "      <td>...</td>\n",
              "      <td>...</td>\n",
              "      <td>...</td>\n",
              "      <td>...</td>\n",
              "      <td>...</td>\n",
              "      <td>...</td>\n",
              "      <td>...</td>\n",
              "      <td>...</td>\n",
              "      <td>...</td>\n",
              "      <td>...</td>\n",
              "      <td>...</td>\n",
              "      <td>...</td>\n",
              "      <td>...</td>\n",
              "      <td>...</td>\n",
              "      <td>...</td>\n",
              "      <td>...</td>\n",
              "      <td>...</td>\n",
              "      <td>...</td>\n",
              "      <td>...</td>\n",
              "    </tr>\n",
              "    <tr>\n",
              "      <th>150</th>\n",
              "      <td>46</td>\n",
              "      <td>female</td>\n",
              "      <td>True</td>\n",
              "      <td>False</td>\n",
              "      <td>True</td>\n",
              "      <td>True</td>\n",
              "      <td>True</td>\n",
              "      <td>True</td>\n",
              "      <td>False</td>\n",
              "      <td>False</td>\n",
              "      <td>True</td>\n",
              "      <td>True</td>\n",
              "      <td>True</td>\n",
              "      <td>7.6</td>\n",
              "      <td>105.325397</td>\n",
              "      <td>242.0</td>\n",
              "      <td>3.3</td>\n",
              "      <td>50.000000</td>\n",
              "      <td>True</td>\n",
              "      <td>die</td>\n",
              "    </tr>\n",
              "    <tr>\n",
              "      <th>151</th>\n",
              "      <td>44</td>\n",
              "      <td>female</td>\n",
              "      <td>True</td>\n",
              "      <td>False</td>\n",
              "      <td>True</td>\n",
              "      <td>False</td>\n",
              "      <td>False</td>\n",
              "      <td>True</td>\n",
              "      <td>True</td>\n",
              "      <td>False</td>\n",
              "      <td>False</td>\n",
              "      <td>False</td>\n",
              "      <td>False</td>\n",
              "      <td>0.9</td>\n",
              "      <td>126.000000</td>\n",
              "      <td>142.0</td>\n",
              "      <td>4.3</td>\n",
              "      <td>61.852273</td>\n",
              "      <td>True</td>\n",
              "      <td>live</td>\n",
              "    </tr>\n",
              "    <tr>\n",
              "      <th>152</th>\n",
              "      <td>61</td>\n",
              "      <td>female</td>\n",
              "      <td>False</td>\n",
              "      <td>False</td>\n",
              "      <td>True</td>\n",
              "      <td>True</td>\n",
              "      <td>False</td>\n",
              "      <td>False</td>\n",
              "      <td>True</td>\n",
              "      <td>False</td>\n",
              "      <td>True</td>\n",
              "      <td>False</td>\n",
              "      <td>False</td>\n",
              "      <td>0.8</td>\n",
              "      <td>75.000000</td>\n",
              "      <td>20.0</td>\n",
              "      <td>4.1</td>\n",
              "      <td>61.852273</td>\n",
              "      <td>True</td>\n",
              "      <td>live</td>\n",
              "    </tr>\n",
              "    <tr>\n",
              "      <th>153</th>\n",
              "      <td>53</td>\n",
              "      <td>male</td>\n",
              "      <td>False</td>\n",
              "      <td>False</td>\n",
              "      <td>True</td>\n",
              "      <td>False</td>\n",
              "      <td>False</td>\n",
              "      <td>True</td>\n",
              "      <td>False</td>\n",
              "      <td>True</td>\n",
              "      <td>True</td>\n",
              "      <td>False</td>\n",
              "      <td>True</td>\n",
              "      <td>1.5</td>\n",
              "      <td>81.000000</td>\n",
              "      <td>19.0</td>\n",
              "      <td>4.1</td>\n",
              "      <td>48.000000</td>\n",
              "      <td>True</td>\n",
              "      <td>live</td>\n",
              "    </tr>\n",
              "    <tr>\n",
              "      <th>154</th>\n",
              "      <td>43</td>\n",
              "      <td>female</td>\n",
              "      <td>True</td>\n",
              "      <td>False</td>\n",
              "      <td>True</td>\n",
              "      <td>False</td>\n",
              "      <td>False</td>\n",
              "      <td>True</td>\n",
              "      <td>False</td>\n",
              "      <td>True</td>\n",
              "      <td>True</td>\n",
              "      <td>True</td>\n",
              "      <td>False</td>\n",
              "      <td>1.2</td>\n",
              "      <td>100.000000</td>\n",
              "      <td>19.0</td>\n",
              "      <td>3.1</td>\n",
              "      <td>42.000000</td>\n",
              "      <td>True</td>\n",
              "      <td>die</td>\n",
              "    </tr>\n",
              "  </tbody>\n",
              "</table>\n",
              "<p>155 rows × 20 columns</p>\n",
              "</div>"
            ],
            "text/plain": [
              "     age     sex steroid  antivirals  ... albumin    protime histology class\n",
              "0     30    male   False       False  ...     4.0  61.852273     False  live\n",
              "1     50  female   False       False  ...     3.5  61.852273     False  live\n",
              "2     78  female    True       False  ...     4.0  61.852273     False  live\n",
              "3     31  female     NaN        True  ...     4.0  80.000000     False  live\n",
              "4     34  female    True       False  ...     4.0  61.852273     False  live\n",
              "..   ...     ...     ...         ...  ...     ...        ...       ...   ...\n",
              "150   46  female    True       False  ...     3.3  50.000000      True   die\n",
              "151   44  female    True       False  ...     4.3  61.852273      True  live\n",
              "152   61  female   False       False  ...     4.1  61.852273      True  live\n",
              "153   53    male   False       False  ...     4.1  48.000000      True  live\n",
              "154   43  female    True       False  ...     3.1  42.000000      True   die\n",
              "\n",
              "[155 rows x 20 columns]"
            ]
          },
          "metadata": {
            "tags": []
          },
          "execution_count": 41
        }
      ]
    },
    {
      "cell_type": "code",
      "metadata": {
        "colab": {
          "base_uri": "https://localhost:8080/",
          "height": 455
        },
        "id": "PGzVASa6cQVa",
        "outputId": "62932108-81b2-480b-9b66-6d5cc4df98ed"
      },
      "source": [
        "df.fillna(df.select_dtypes(np.object).mode(axis=1,numeric_only= False))"
      ],
      "execution_count": 44,
      "outputs": [
        {
          "output_type": "stream",
          "text": [
            "/usr/local/lib/python3.7/dist-packages/pandas/core/algorithms.py:921: UserWarning: Unable to sort modes: '<' not supported between instances of 'str' and 'bool'\n",
            "  warn(f\"Unable to sort modes: {err}\")\n"
          ],
          "name": "stderr"
        },
        {
          "output_type": "execute_result",
          "data": {
            "text/html": [
              "<div>\n",
              "<style scoped>\n",
              "    .dataframe tbody tr th:only-of-type {\n",
              "        vertical-align: middle;\n",
              "    }\n",
              "\n",
              "    .dataframe tbody tr th {\n",
              "        vertical-align: top;\n",
              "    }\n",
              "\n",
              "    .dataframe thead th {\n",
              "        text-align: right;\n",
              "    }\n",
              "</style>\n",
              "<table border=\"1\" class=\"dataframe\">\n",
              "  <thead>\n",
              "    <tr style=\"text-align: right;\">\n",
              "      <th></th>\n",
              "      <th>age</th>\n",
              "      <th>sex</th>\n",
              "      <th>steroid</th>\n",
              "      <th>antivirals</th>\n",
              "      <th>fatigue</th>\n",
              "      <th>malaise</th>\n",
              "      <th>anorexia</th>\n",
              "      <th>liver_big</th>\n",
              "      <th>liver_firm</th>\n",
              "      <th>spleen_palpable</th>\n",
              "      <th>spiders</th>\n",
              "      <th>ascites</th>\n",
              "      <th>varices</th>\n",
              "      <th>bilirubin</th>\n",
              "      <th>alk_phosphate</th>\n",
              "      <th>sgot</th>\n",
              "      <th>albumin</th>\n",
              "      <th>protime</th>\n",
              "      <th>histology</th>\n",
              "      <th>class</th>\n",
              "    </tr>\n",
              "  </thead>\n",
              "  <tbody>\n",
              "    <tr>\n",
              "      <th>0</th>\n",
              "      <td>30</td>\n",
              "      <td>male</td>\n",
              "      <td>False</td>\n",
              "      <td>False</td>\n",
              "      <td>False</td>\n",
              "      <td>False</td>\n",
              "      <td>False</td>\n",
              "      <td>False</td>\n",
              "      <td>False</td>\n",
              "      <td>False</td>\n",
              "      <td>False</td>\n",
              "      <td>False</td>\n",
              "      <td>False</td>\n",
              "      <td>1.0</td>\n",
              "      <td>85.0</td>\n",
              "      <td>18.0</td>\n",
              "      <td>4.0</td>\n",
              "      <td>NaN</td>\n",
              "      <td>False</td>\n",
              "      <td>live</td>\n",
              "    </tr>\n",
              "    <tr>\n",
              "      <th>1</th>\n",
              "      <td>50</td>\n",
              "      <td>female</td>\n",
              "      <td>False</td>\n",
              "      <td>False</td>\n",
              "      <td>True</td>\n",
              "      <td>False</td>\n",
              "      <td>False</td>\n",
              "      <td>False</td>\n",
              "      <td>False</td>\n",
              "      <td>False</td>\n",
              "      <td>False</td>\n",
              "      <td>False</td>\n",
              "      <td>False</td>\n",
              "      <td>0.9</td>\n",
              "      <td>135.0</td>\n",
              "      <td>42.0</td>\n",
              "      <td>3.5</td>\n",
              "      <td>NaN</td>\n",
              "      <td>False</td>\n",
              "      <td>live</td>\n",
              "    </tr>\n",
              "    <tr>\n",
              "      <th>2</th>\n",
              "      <td>78</td>\n",
              "      <td>female</td>\n",
              "      <td>True</td>\n",
              "      <td>False</td>\n",
              "      <td>True</td>\n",
              "      <td>False</td>\n",
              "      <td>False</td>\n",
              "      <td>True</td>\n",
              "      <td>False</td>\n",
              "      <td>False</td>\n",
              "      <td>False</td>\n",
              "      <td>False</td>\n",
              "      <td>False</td>\n",
              "      <td>0.7</td>\n",
              "      <td>96.0</td>\n",
              "      <td>32.0</td>\n",
              "      <td>4.0</td>\n",
              "      <td>NaN</td>\n",
              "      <td>False</td>\n",
              "      <td>live</td>\n",
              "    </tr>\n",
              "    <tr>\n",
              "      <th>3</th>\n",
              "      <td>31</td>\n",
              "      <td>female</td>\n",
              "      <td>NaN</td>\n",
              "      <td>True</td>\n",
              "      <td>False</td>\n",
              "      <td>False</td>\n",
              "      <td>False</td>\n",
              "      <td>True</td>\n",
              "      <td>False</td>\n",
              "      <td>False</td>\n",
              "      <td>False</td>\n",
              "      <td>False</td>\n",
              "      <td>False</td>\n",
              "      <td>0.7</td>\n",
              "      <td>46.0</td>\n",
              "      <td>52.0</td>\n",
              "      <td>4.0</td>\n",
              "      <td>80.0</td>\n",
              "      <td>False</td>\n",
              "      <td>live</td>\n",
              "    </tr>\n",
              "    <tr>\n",
              "      <th>4</th>\n",
              "      <td>34</td>\n",
              "      <td>female</td>\n",
              "      <td>True</td>\n",
              "      <td>False</td>\n",
              "      <td>False</td>\n",
              "      <td>False</td>\n",
              "      <td>False</td>\n",
              "      <td>True</td>\n",
              "      <td>False</td>\n",
              "      <td>False</td>\n",
              "      <td>False</td>\n",
              "      <td>False</td>\n",
              "      <td>False</td>\n",
              "      <td>1.0</td>\n",
              "      <td>NaN</td>\n",
              "      <td>200.0</td>\n",
              "      <td>4.0</td>\n",
              "      <td>NaN</td>\n",
              "      <td>False</td>\n",
              "      <td>live</td>\n",
              "    </tr>\n",
              "    <tr>\n",
              "      <th>...</th>\n",
              "      <td>...</td>\n",
              "      <td>...</td>\n",
              "      <td>...</td>\n",
              "      <td>...</td>\n",
              "      <td>...</td>\n",
              "      <td>...</td>\n",
              "      <td>...</td>\n",
              "      <td>...</td>\n",
              "      <td>...</td>\n",
              "      <td>...</td>\n",
              "      <td>...</td>\n",
              "      <td>...</td>\n",
              "      <td>...</td>\n",
              "      <td>...</td>\n",
              "      <td>...</td>\n",
              "      <td>...</td>\n",
              "      <td>...</td>\n",
              "      <td>...</td>\n",
              "      <td>...</td>\n",
              "      <td>...</td>\n",
              "    </tr>\n",
              "    <tr>\n",
              "      <th>150</th>\n",
              "      <td>46</td>\n",
              "      <td>female</td>\n",
              "      <td>True</td>\n",
              "      <td>False</td>\n",
              "      <td>True</td>\n",
              "      <td>True</td>\n",
              "      <td>True</td>\n",
              "      <td>True</td>\n",
              "      <td>False</td>\n",
              "      <td>False</td>\n",
              "      <td>True</td>\n",
              "      <td>True</td>\n",
              "      <td>True</td>\n",
              "      <td>7.6</td>\n",
              "      <td>NaN</td>\n",
              "      <td>242.0</td>\n",
              "      <td>3.3</td>\n",
              "      <td>50.0</td>\n",
              "      <td>True</td>\n",
              "      <td>die</td>\n",
              "    </tr>\n",
              "    <tr>\n",
              "      <th>151</th>\n",
              "      <td>44</td>\n",
              "      <td>female</td>\n",
              "      <td>True</td>\n",
              "      <td>False</td>\n",
              "      <td>True</td>\n",
              "      <td>False</td>\n",
              "      <td>False</td>\n",
              "      <td>True</td>\n",
              "      <td>True</td>\n",
              "      <td>False</td>\n",
              "      <td>False</td>\n",
              "      <td>False</td>\n",
              "      <td>False</td>\n",
              "      <td>0.9</td>\n",
              "      <td>126.0</td>\n",
              "      <td>142.0</td>\n",
              "      <td>4.3</td>\n",
              "      <td>NaN</td>\n",
              "      <td>True</td>\n",
              "      <td>live</td>\n",
              "    </tr>\n",
              "    <tr>\n",
              "      <th>152</th>\n",
              "      <td>61</td>\n",
              "      <td>female</td>\n",
              "      <td>False</td>\n",
              "      <td>False</td>\n",
              "      <td>True</td>\n",
              "      <td>True</td>\n",
              "      <td>False</td>\n",
              "      <td>False</td>\n",
              "      <td>True</td>\n",
              "      <td>False</td>\n",
              "      <td>True</td>\n",
              "      <td>False</td>\n",
              "      <td>False</td>\n",
              "      <td>0.8</td>\n",
              "      <td>75.0</td>\n",
              "      <td>20.0</td>\n",
              "      <td>4.1</td>\n",
              "      <td>NaN</td>\n",
              "      <td>True</td>\n",
              "      <td>live</td>\n",
              "    </tr>\n",
              "    <tr>\n",
              "      <th>153</th>\n",
              "      <td>53</td>\n",
              "      <td>male</td>\n",
              "      <td>False</td>\n",
              "      <td>False</td>\n",
              "      <td>True</td>\n",
              "      <td>False</td>\n",
              "      <td>False</td>\n",
              "      <td>True</td>\n",
              "      <td>False</td>\n",
              "      <td>True</td>\n",
              "      <td>True</td>\n",
              "      <td>False</td>\n",
              "      <td>True</td>\n",
              "      <td>1.5</td>\n",
              "      <td>81.0</td>\n",
              "      <td>19.0</td>\n",
              "      <td>4.1</td>\n",
              "      <td>48.0</td>\n",
              "      <td>True</td>\n",
              "      <td>live</td>\n",
              "    </tr>\n",
              "    <tr>\n",
              "      <th>154</th>\n",
              "      <td>43</td>\n",
              "      <td>female</td>\n",
              "      <td>True</td>\n",
              "      <td>False</td>\n",
              "      <td>True</td>\n",
              "      <td>False</td>\n",
              "      <td>False</td>\n",
              "      <td>True</td>\n",
              "      <td>False</td>\n",
              "      <td>True</td>\n",
              "      <td>True</td>\n",
              "      <td>True</td>\n",
              "      <td>False</td>\n",
              "      <td>1.2</td>\n",
              "      <td>100.0</td>\n",
              "      <td>19.0</td>\n",
              "      <td>3.1</td>\n",
              "      <td>42.0</td>\n",
              "      <td>True</td>\n",
              "      <td>die</td>\n",
              "    </tr>\n",
              "  </tbody>\n",
              "</table>\n",
              "<p>155 rows × 20 columns</p>\n",
              "</div>"
            ],
            "text/plain": [
              "     age     sex steroid  antivirals  ... albumin protime histology class\n",
              "0     30    male   False       False  ...     4.0     NaN     False  live\n",
              "1     50  female   False       False  ...     3.5     NaN     False  live\n",
              "2     78  female    True       False  ...     4.0     NaN     False  live\n",
              "3     31  female     NaN        True  ...     4.0    80.0     False  live\n",
              "4     34  female    True       False  ...     4.0     NaN     False  live\n",
              "..   ...     ...     ...         ...  ...     ...     ...       ...   ...\n",
              "150   46  female    True       False  ...     3.3    50.0      True   die\n",
              "151   44  female    True       False  ...     4.3     NaN      True  live\n",
              "152   61  female   False       False  ...     4.1     NaN      True  live\n",
              "153   53    male   False       False  ...     4.1    48.0      True  live\n",
              "154   43  female    True       False  ...     3.1    42.0      True   die\n",
              "\n",
              "[155 rows x 20 columns]"
            ]
          },
          "metadata": {
            "tags": []
          },
          "execution_count": 44
        }
      ]
    },
    {
      "cell_type": "code",
      "metadata": {
        "id": "DlQ6ogt2b8ET"
      },
      "source": [
        ""
      ],
      "execution_count": null,
      "outputs": []
    },
    {
      "cell_type": "code",
      "metadata": {
        "id": "5c1VYoSGhkes"
      },
      "source": [
        ""
      ],
      "execution_count": null,
      "outputs": []
    },
    {
      "cell_type": "code",
      "metadata": {
        "id": "quu8w60Nb5fx"
      },
      "source": [
        ""
      ],
      "execution_count": null,
      "outputs": []
    },
    {
      "cell_type": "code",
      "metadata": {
        "id": "ekl6n_2JbyEv"
      },
      "source": [
        ""
      ],
      "execution_count": null,
      "outputs": []
    },
    {
      "cell_type": "markdown",
      "metadata": {
        "id": "KHmfGovRAEaQ"
      },
      "source": [
        "### Normalización de los datos"
      ]
    },
    {
      "cell_type": "markdown",
      "metadata": {
        "id": "edDdT7JbAYyB"
      },
      "source": [
        "La normalización de datos implica ajustar los valores medidos en diferentes escalas a una escala común. Cuando se trata de dataframes, la normalización de datos permite ajustar valores referidos a diferentes columnas a una escala común. Esta operación es muy recomendable cuando las columnas de un dataframes se van a usar como features de entrada de un algoritmo de aprendizaje automático, ya que impide que el algoritmo le asigne mayores pesos a las features de mayor escala. "
      ]
    },
    {
      "cell_type": "markdown",
      "metadata": {
        "id": "vu9sNMVlA-Sd"
      },
      "source": [
        "La normalización se aplica solo a las columnas que contienen valores numéricos. Existen cinco métodos de normalización:\n",
        "\n",
        "* single feature scaling\n",
        "* min max\n",
        "* z score\n",
        "* escala logaritmica\n",
        "* clipping"
      ]
    },
    {
      "cell_type": "markdown",
      "metadata": {
        "id": "j3nUfr_PBaJm"
      },
      "source": [
        "En el resto del práctico, aplicamos cada método a una sola columna. Sin embargo, si vas a utilizar cada columna del conjunto de datos como features de entrada de un algoritmo de aprendizaje automático, ***tenés que aplicar el mismo método de normalización a todas las columnas***."
      ]
    },
    {
      "cell_type": "markdown",
      "metadata": {
        "id": "9tiPktE2BvW1"
      },
      "source": [
        "En esta sección vamos a usar el dataset provisto por la Protezione Civile Italiana relacionado a los casos de COVID-19 registrados desde el inicio de la pandemia. Este dataset se actualiza diariamente y ell siguiente código se encarga de descargarlo."
      ]
    },
    {
      "cell_type": "code",
      "metadata": {
        "id": "11RihoxkB8uz",
        "colab": {
          "base_uri": "https://localhost:8080/",
          "height": 531
        },
        "outputId": "5d0d46c6-8a42-42b1-9b49-b280e4340222"
      },
      "source": [
        "df_italia = pd.read_csv('https://raw.githubusercontent.com/pcm-dpc/COVID-19/master/dati-regioni/dpc-covid19-ita-regioni.csv')\n",
        "df_italia.head(10)"
      ],
      "execution_count": 45,
      "outputs": [
        {
          "output_type": "execute_result",
          "data": {
            "text/html": [
              "<div>\n",
              "<style scoped>\n",
              "    .dataframe tbody tr th:only-of-type {\n",
              "        vertical-align: middle;\n",
              "    }\n",
              "\n",
              "    .dataframe tbody tr th {\n",
              "        vertical-align: top;\n",
              "    }\n",
              "\n",
              "    .dataframe thead th {\n",
              "        text-align: right;\n",
              "    }\n",
              "</style>\n",
              "<table border=\"1\" class=\"dataframe\">\n",
              "  <thead>\n",
              "    <tr style=\"text-align: right;\">\n",
              "      <th></th>\n",
              "      <th>data</th>\n",
              "      <th>stato</th>\n",
              "      <th>codice_regione</th>\n",
              "      <th>denominazione_regione</th>\n",
              "      <th>lat</th>\n",
              "      <th>long</th>\n",
              "      <th>ricoverati_con_sintomi</th>\n",
              "      <th>terapia_intensiva</th>\n",
              "      <th>totale_ospedalizzati</th>\n",
              "      <th>isolamento_domiciliare</th>\n",
              "      <th>totale_positivi</th>\n",
              "      <th>variazione_totale_positivi</th>\n",
              "      <th>nuovi_positivi</th>\n",
              "      <th>dimessi_guariti</th>\n",
              "      <th>deceduti</th>\n",
              "      <th>casi_da_sospetto_diagnostico</th>\n",
              "      <th>casi_da_screening</th>\n",
              "      <th>totale_casi</th>\n",
              "      <th>tamponi</th>\n",
              "      <th>casi_testati</th>\n",
              "      <th>note</th>\n",
              "      <th>ingressi_terapia_intensiva</th>\n",
              "      <th>note_test</th>\n",
              "      <th>note_casi</th>\n",
              "      <th>totale_positivi_test_molecolare</th>\n",
              "      <th>totale_positivi_test_antigenico_rapido</th>\n",
              "      <th>tamponi_test_molecolare</th>\n",
              "      <th>tamponi_test_antigenico_rapido</th>\n",
              "      <th>codice_nuts_1</th>\n",
              "      <th>codice_nuts_2</th>\n",
              "    </tr>\n",
              "  </thead>\n",
              "  <tbody>\n",
              "    <tr>\n",
              "      <th>0</th>\n",
              "      <td>2020-02-24T18:00:00</td>\n",
              "      <td>ITA</td>\n",
              "      <td>13</td>\n",
              "      <td>Abruzzo</td>\n",
              "      <td>42.351222</td>\n",
              "      <td>13.398438</td>\n",
              "      <td>0</td>\n",
              "      <td>0</td>\n",
              "      <td>0</td>\n",
              "      <td>0</td>\n",
              "      <td>0</td>\n",
              "      <td>0</td>\n",
              "      <td>0</td>\n",
              "      <td>0</td>\n",
              "      <td>0</td>\n",
              "      <td>NaN</td>\n",
              "      <td>NaN</td>\n",
              "      <td>0</td>\n",
              "      <td>5</td>\n",
              "      <td>NaN</td>\n",
              "      <td>NaN</td>\n",
              "      <td>NaN</td>\n",
              "      <td>NaN</td>\n",
              "      <td>NaN</td>\n",
              "      <td>NaN</td>\n",
              "      <td>NaN</td>\n",
              "      <td>NaN</td>\n",
              "      <td>NaN</td>\n",
              "      <td>NaN</td>\n",
              "      <td>NaN</td>\n",
              "    </tr>\n",
              "    <tr>\n",
              "      <th>1</th>\n",
              "      <td>2020-02-24T18:00:00</td>\n",
              "      <td>ITA</td>\n",
              "      <td>17</td>\n",
              "      <td>Basilicata</td>\n",
              "      <td>40.639471</td>\n",
              "      <td>15.805148</td>\n",
              "      <td>0</td>\n",
              "      <td>0</td>\n",
              "      <td>0</td>\n",
              "      <td>0</td>\n",
              "      <td>0</td>\n",
              "      <td>0</td>\n",
              "      <td>0</td>\n",
              "      <td>0</td>\n",
              "      <td>0</td>\n",
              "      <td>NaN</td>\n",
              "      <td>NaN</td>\n",
              "      <td>0</td>\n",
              "      <td>0</td>\n",
              "      <td>NaN</td>\n",
              "      <td>NaN</td>\n",
              "      <td>NaN</td>\n",
              "      <td>NaN</td>\n",
              "      <td>NaN</td>\n",
              "      <td>NaN</td>\n",
              "      <td>NaN</td>\n",
              "      <td>NaN</td>\n",
              "      <td>NaN</td>\n",
              "      <td>NaN</td>\n",
              "      <td>NaN</td>\n",
              "    </tr>\n",
              "    <tr>\n",
              "      <th>2</th>\n",
              "      <td>2020-02-24T18:00:00</td>\n",
              "      <td>ITA</td>\n",
              "      <td>18</td>\n",
              "      <td>Calabria</td>\n",
              "      <td>38.905976</td>\n",
              "      <td>16.594402</td>\n",
              "      <td>0</td>\n",
              "      <td>0</td>\n",
              "      <td>0</td>\n",
              "      <td>0</td>\n",
              "      <td>0</td>\n",
              "      <td>0</td>\n",
              "      <td>0</td>\n",
              "      <td>0</td>\n",
              "      <td>0</td>\n",
              "      <td>NaN</td>\n",
              "      <td>NaN</td>\n",
              "      <td>0</td>\n",
              "      <td>1</td>\n",
              "      <td>NaN</td>\n",
              "      <td>NaN</td>\n",
              "      <td>NaN</td>\n",
              "      <td>NaN</td>\n",
              "      <td>NaN</td>\n",
              "      <td>NaN</td>\n",
              "      <td>NaN</td>\n",
              "      <td>NaN</td>\n",
              "      <td>NaN</td>\n",
              "      <td>NaN</td>\n",
              "      <td>NaN</td>\n",
              "    </tr>\n",
              "    <tr>\n",
              "      <th>3</th>\n",
              "      <td>2020-02-24T18:00:00</td>\n",
              "      <td>ITA</td>\n",
              "      <td>15</td>\n",
              "      <td>Campania</td>\n",
              "      <td>40.839566</td>\n",
              "      <td>14.250850</td>\n",
              "      <td>0</td>\n",
              "      <td>0</td>\n",
              "      <td>0</td>\n",
              "      <td>0</td>\n",
              "      <td>0</td>\n",
              "      <td>0</td>\n",
              "      <td>0</td>\n",
              "      <td>0</td>\n",
              "      <td>0</td>\n",
              "      <td>NaN</td>\n",
              "      <td>NaN</td>\n",
              "      <td>0</td>\n",
              "      <td>10</td>\n",
              "      <td>NaN</td>\n",
              "      <td>NaN</td>\n",
              "      <td>NaN</td>\n",
              "      <td>NaN</td>\n",
              "      <td>NaN</td>\n",
              "      <td>NaN</td>\n",
              "      <td>NaN</td>\n",
              "      <td>NaN</td>\n",
              "      <td>NaN</td>\n",
              "      <td>NaN</td>\n",
              "      <td>NaN</td>\n",
              "    </tr>\n",
              "    <tr>\n",
              "      <th>4</th>\n",
              "      <td>2020-02-24T18:00:00</td>\n",
              "      <td>ITA</td>\n",
              "      <td>8</td>\n",
              "      <td>Emilia-Romagna</td>\n",
              "      <td>44.494367</td>\n",
              "      <td>11.341721</td>\n",
              "      <td>10</td>\n",
              "      <td>2</td>\n",
              "      <td>12</td>\n",
              "      <td>6</td>\n",
              "      <td>18</td>\n",
              "      <td>0</td>\n",
              "      <td>18</td>\n",
              "      <td>0</td>\n",
              "      <td>0</td>\n",
              "      <td>NaN</td>\n",
              "      <td>NaN</td>\n",
              "      <td>18</td>\n",
              "      <td>148</td>\n",
              "      <td>NaN</td>\n",
              "      <td>NaN</td>\n",
              "      <td>NaN</td>\n",
              "      <td>NaN</td>\n",
              "      <td>NaN</td>\n",
              "      <td>NaN</td>\n",
              "      <td>NaN</td>\n",
              "      <td>NaN</td>\n",
              "      <td>NaN</td>\n",
              "      <td>NaN</td>\n",
              "      <td>NaN</td>\n",
              "    </tr>\n",
              "    <tr>\n",
              "      <th>5</th>\n",
              "      <td>2020-02-24T18:00:00</td>\n",
              "      <td>ITA</td>\n",
              "      <td>6</td>\n",
              "      <td>Friuli Venezia Giulia</td>\n",
              "      <td>45.649435</td>\n",
              "      <td>13.768136</td>\n",
              "      <td>0</td>\n",
              "      <td>0</td>\n",
              "      <td>0</td>\n",
              "      <td>0</td>\n",
              "      <td>0</td>\n",
              "      <td>0</td>\n",
              "      <td>0</td>\n",
              "      <td>0</td>\n",
              "      <td>0</td>\n",
              "      <td>NaN</td>\n",
              "      <td>NaN</td>\n",
              "      <td>0</td>\n",
              "      <td>58</td>\n",
              "      <td>NaN</td>\n",
              "      <td>NaN</td>\n",
              "      <td>NaN</td>\n",
              "      <td>NaN</td>\n",
              "      <td>NaN</td>\n",
              "      <td>NaN</td>\n",
              "      <td>NaN</td>\n",
              "      <td>NaN</td>\n",
              "      <td>NaN</td>\n",
              "      <td>NaN</td>\n",
              "      <td>NaN</td>\n",
              "    </tr>\n",
              "    <tr>\n",
              "      <th>6</th>\n",
              "      <td>2020-02-24T18:00:00</td>\n",
              "      <td>ITA</td>\n",
              "      <td>12</td>\n",
              "      <td>Lazio</td>\n",
              "      <td>41.892770</td>\n",
              "      <td>12.483667</td>\n",
              "      <td>1</td>\n",
              "      <td>1</td>\n",
              "      <td>2</td>\n",
              "      <td>0</td>\n",
              "      <td>2</td>\n",
              "      <td>0</td>\n",
              "      <td>2</td>\n",
              "      <td>1</td>\n",
              "      <td>0</td>\n",
              "      <td>NaN</td>\n",
              "      <td>NaN</td>\n",
              "      <td>3</td>\n",
              "      <td>124</td>\n",
              "      <td>NaN</td>\n",
              "      <td>NaN</td>\n",
              "      <td>NaN</td>\n",
              "      <td>NaN</td>\n",
              "      <td>NaN</td>\n",
              "      <td>NaN</td>\n",
              "      <td>NaN</td>\n",
              "      <td>NaN</td>\n",
              "      <td>NaN</td>\n",
              "      <td>NaN</td>\n",
              "      <td>NaN</td>\n",
              "    </tr>\n",
              "    <tr>\n",
              "      <th>7</th>\n",
              "      <td>2020-02-24T18:00:00</td>\n",
              "      <td>ITA</td>\n",
              "      <td>7</td>\n",
              "      <td>Liguria</td>\n",
              "      <td>44.411493</td>\n",
              "      <td>8.932699</td>\n",
              "      <td>0</td>\n",
              "      <td>0</td>\n",
              "      <td>0</td>\n",
              "      <td>0</td>\n",
              "      <td>0</td>\n",
              "      <td>0</td>\n",
              "      <td>0</td>\n",
              "      <td>0</td>\n",
              "      <td>0</td>\n",
              "      <td>NaN</td>\n",
              "      <td>NaN</td>\n",
              "      <td>0</td>\n",
              "      <td>1</td>\n",
              "      <td>NaN</td>\n",
              "      <td>NaN</td>\n",
              "      <td>NaN</td>\n",
              "      <td>NaN</td>\n",
              "      <td>NaN</td>\n",
              "      <td>NaN</td>\n",
              "      <td>NaN</td>\n",
              "      <td>NaN</td>\n",
              "      <td>NaN</td>\n",
              "      <td>NaN</td>\n",
              "      <td>NaN</td>\n",
              "    </tr>\n",
              "    <tr>\n",
              "      <th>8</th>\n",
              "      <td>2020-02-24T18:00:00</td>\n",
              "      <td>ITA</td>\n",
              "      <td>3</td>\n",
              "      <td>Lombardia</td>\n",
              "      <td>45.466794</td>\n",
              "      <td>9.190347</td>\n",
              "      <td>76</td>\n",
              "      <td>19</td>\n",
              "      <td>95</td>\n",
              "      <td>71</td>\n",
              "      <td>166</td>\n",
              "      <td>0</td>\n",
              "      <td>166</td>\n",
              "      <td>0</td>\n",
              "      <td>6</td>\n",
              "      <td>NaN</td>\n",
              "      <td>NaN</td>\n",
              "      <td>172</td>\n",
              "      <td>1463</td>\n",
              "      <td>NaN</td>\n",
              "      <td>NaN</td>\n",
              "      <td>NaN</td>\n",
              "      <td>NaN</td>\n",
              "      <td>NaN</td>\n",
              "      <td>NaN</td>\n",
              "      <td>NaN</td>\n",
              "      <td>NaN</td>\n",
              "      <td>NaN</td>\n",
              "      <td>NaN</td>\n",
              "      <td>NaN</td>\n",
              "    </tr>\n",
              "    <tr>\n",
              "      <th>9</th>\n",
              "      <td>2020-02-24T18:00:00</td>\n",
              "      <td>ITA</td>\n",
              "      <td>11</td>\n",
              "      <td>Marche</td>\n",
              "      <td>43.616760</td>\n",
              "      <td>13.518875</td>\n",
              "      <td>0</td>\n",
              "      <td>0</td>\n",
              "      <td>0</td>\n",
              "      <td>0</td>\n",
              "      <td>0</td>\n",
              "      <td>0</td>\n",
              "      <td>0</td>\n",
              "      <td>0</td>\n",
              "      <td>0</td>\n",
              "      <td>NaN</td>\n",
              "      <td>NaN</td>\n",
              "      <td>0</td>\n",
              "      <td>16</td>\n",
              "      <td>NaN</td>\n",
              "      <td>NaN</td>\n",
              "      <td>NaN</td>\n",
              "      <td>NaN</td>\n",
              "      <td>NaN</td>\n",
              "      <td>NaN</td>\n",
              "      <td>NaN</td>\n",
              "      <td>NaN</td>\n",
              "      <td>NaN</td>\n",
              "      <td>NaN</td>\n",
              "      <td>NaN</td>\n",
              "    </tr>\n",
              "  </tbody>\n",
              "</table>\n",
              "</div>"
            ],
            "text/plain": [
              "                  data stato  ...  codice_nuts_1 codice_nuts_2\n",
              "0  2020-02-24T18:00:00   ITA  ...            NaN           NaN\n",
              "1  2020-02-24T18:00:00   ITA  ...            NaN           NaN\n",
              "2  2020-02-24T18:00:00   ITA  ...            NaN           NaN\n",
              "3  2020-02-24T18:00:00   ITA  ...            NaN           NaN\n",
              "4  2020-02-24T18:00:00   ITA  ...            NaN           NaN\n",
              "5  2020-02-24T18:00:00   ITA  ...            NaN           NaN\n",
              "6  2020-02-24T18:00:00   ITA  ...            NaN           NaN\n",
              "7  2020-02-24T18:00:00   ITA  ...            NaN           NaN\n",
              "8  2020-02-24T18:00:00   ITA  ...            NaN           NaN\n",
              "9  2020-02-24T18:00:00   ITA  ...            NaN           NaN\n",
              "\n",
              "[10 rows x 30 columns]"
            ]
          },
          "metadata": {
            "tags": []
          },
          "execution_count": 45
        }
      ]
    },
    {
      "cell_type": "markdown",
      "metadata": {
        "id": "UaWEcx3OCpH3"
      },
      "source": [
        "A continuación elimine todas las columnas que contengan valores faltantes."
      ]
    },
    {
      "cell_type": "code",
      "metadata": {
        "id": "TznMLQfqCvBx",
        "colab": {
          "base_uri": "https://localhost:8080/",
          "height": 590
        },
        "outputId": "14871570-b4de-48f4-b21d-3a576f616865"
      },
      "source": [
        "df_italia.dropna(axis=1)"
      ],
      "execution_count": 46,
      "outputs": [
        {
          "output_type": "execute_result",
          "data": {
            "text/html": [
              "<div>\n",
              "<style scoped>\n",
              "    .dataframe tbody tr th:only-of-type {\n",
              "        vertical-align: middle;\n",
              "    }\n",
              "\n",
              "    .dataframe tbody tr th {\n",
              "        vertical-align: top;\n",
              "    }\n",
              "\n",
              "    .dataframe thead th {\n",
              "        text-align: right;\n",
              "    }\n",
              "</style>\n",
              "<table border=\"1\" class=\"dataframe\">\n",
              "  <thead>\n",
              "    <tr style=\"text-align: right;\">\n",
              "      <th></th>\n",
              "      <th>data</th>\n",
              "      <th>stato</th>\n",
              "      <th>codice_regione</th>\n",
              "      <th>denominazione_regione</th>\n",
              "      <th>lat</th>\n",
              "      <th>long</th>\n",
              "      <th>ricoverati_con_sintomi</th>\n",
              "      <th>terapia_intensiva</th>\n",
              "      <th>totale_ospedalizzati</th>\n",
              "      <th>isolamento_domiciliare</th>\n",
              "      <th>totale_positivi</th>\n",
              "      <th>variazione_totale_positivi</th>\n",
              "      <th>nuovi_positivi</th>\n",
              "      <th>dimessi_guariti</th>\n",
              "      <th>deceduti</th>\n",
              "      <th>totale_casi</th>\n",
              "      <th>tamponi</th>\n",
              "    </tr>\n",
              "  </thead>\n",
              "  <tbody>\n",
              "    <tr>\n",
              "      <th>0</th>\n",
              "      <td>2020-02-24T18:00:00</td>\n",
              "      <td>ITA</td>\n",
              "      <td>13</td>\n",
              "      <td>Abruzzo</td>\n",
              "      <td>42.351222</td>\n",
              "      <td>13.398438</td>\n",
              "      <td>0</td>\n",
              "      <td>0</td>\n",
              "      <td>0</td>\n",
              "      <td>0</td>\n",
              "      <td>0</td>\n",
              "      <td>0</td>\n",
              "      <td>0</td>\n",
              "      <td>0</td>\n",
              "      <td>0</td>\n",
              "      <td>0</td>\n",
              "      <td>5</td>\n",
              "    </tr>\n",
              "    <tr>\n",
              "      <th>1</th>\n",
              "      <td>2020-02-24T18:00:00</td>\n",
              "      <td>ITA</td>\n",
              "      <td>17</td>\n",
              "      <td>Basilicata</td>\n",
              "      <td>40.639471</td>\n",
              "      <td>15.805148</td>\n",
              "      <td>0</td>\n",
              "      <td>0</td>\n",
              "      <td>0</td>\n",
              "      <td>0</td>\n",
              "      <td>0</td>\n",
              "      <td>0</td>\n",
              "      <td>0</td>\n",
              "      <td>0</td>\n",
              "      <td>0</td>\n",
              "      <td>0</td>\n",
              "      <td>0</td>\n",
              "    </tr>\n",
              "    <tr>\n",
              "      <th>2</th>\n",
              "      <td>2020-02-24T18:00:00</td>\n",
              "      <td>ITA</td>\n",
              "      <td>18</td>\n",
              "      <td>Calabria</td>\n",
              "      <td>38.905976</td>\n",
              "      <td>16.594402</td>\n",
              "      <td>0</td>\n",
              "      <td>0</td>\n",
              "      <td>0</td>\n",
              "      <td>0</td>\n",
              "      <td>0</td>\n",
              "      <td>0</td>\n",
              "      <td>0</td>\n",
              "      <td>0</td>\n",
              "      <td>0</td>\n",
              "      <td>0</td>\n",
              "      <td>1</td>\n",
              "    </tr>\n",
              "    <tr>\n",
              "      <th>3</th>\n",
              "      <td>2020-02-24T18:00:00</td>\n",
              "      <td>ITA</td>\n",
              "      <td>15</td>\n",
              "      <td>Campania</td>\n",
              "      <td>40.839566</td>\n",
              "      <td>14.250850</td>\n",
              "      <td>0</td>\n",
              "      <td>0</td>\n",
              "      <td>0</td>\n",
              "      <td>0</td>\n",
              "      <td>0</td>\n",
              "      <td>0</td>\n",
              "      <td>0</td>\n",
              "      <td>0</td>\n",
              "      <td>0</td>\n",
              "      <td>0</td>\n",
              "      <td>10</td>\n",
              "    </tr>\n",
              "    <tr>\n",
              "      <th>4</th>\n",
              "      <td>2020-02-24T18:00:00</td>\n",
              "      <td>ITA</td>\n",
              "      <td>8</td>\n",
              "      <td>Emilia-Romagna</td>\n",
              "      <td>44.494367</td>\n",
              "      <td>11.341721</td>\n",
              "      <td>10</td>\n",
              "      <td>2</td>\n",
              "      <td>12</td>\n",
              "      <td>6</td>\n",
              "      <td>18</td>\n",
              "      <td>0</td>\n",
              "      <td>18</td>\n",
              "      <td>0</td>\n",
              "      <td>0</td>\n",
              "      <td>18</td>\n",
              "      <td>148</td>\n",
              "    </tr>\n",
              "    <tr>\n",
              "      <th>...</th>\n",
              "      <td>...</td>\n",
              "      <td>...</td>\n",
              "      <td>...</td>\n",
              "      <td>...</td>\n",
              "      <td>...</td>\n",
              "      <td>...</td>\n",
              "      <td>...</td>\n",
              "      <td>...</td>\n",
              "      <td>...</td>\n",
              "      <td>...</td>\n",
              "      <td>...</td>\n",
              "      <td>...</td>\n",
              "      <td>...</td>\n",
              "      <td>...</td>\n",
              "      <td>...</td>\n",
              "      <td>...</td>\n",
              "      <td>...</td>\n",
              "    </tr>\n",
              "    <tr>\n",
              "      <th>8332</th>\n",
              "      <td>2021-03-26T17:00:00</td>\n",
              "      <td>ITA</td>\n",
              "      <td>19</td>\n",
              "      <td>Sicilia</td>\n",
              "      <td>38.115697</td>\n",
              "      <td>13.362357</td>\n",
              "      <td>799</td>\n",
              "      <td>121</td>\n",
              "      <td>920</td>\n",
              "      <td>15483</td>\n",
              "      <td>16403</td>\n",
              "      <td>409</td>\n",
              "      <td>892</td>\n",
              "      <td>148870</td>\n",
              "      <td>4535</td>\n",
              "      <td>169808</td>\n",
              "      <td>3069858</td>\n",
              "    </tr>\n",
              "    <tr>\n",
              "      <th>8333</th>\n",
              "      <td>2021-03-26T17:00:00</td>\n",
              "      <td>ITA</td>\n",
              "      <td>9</td>\n",
              "      <td>Toscana</td>\n",
              "      <td>43.769231</td>\n",
              "      <td>11.255889</td>\n",
              "      <td>1473</td>\n",
              "      <td>257</td>\n",
              "      <td>1730</td>\n",
              "      <td>25496</td>\n",
              "      <td>27226</td>\n",
              "      <td>362</td>\n",
              "      <td>1425</td>\n",
              "      <td>156354</td>\n",
              "      <td>5220</td>\n",
              "      <td>188800</td>\n",
              "      <td>3312214</td>\n",
              "    </tr>\n",
              "    <tr>\n",
              "      <th>8334</th>\n",
              "      <td>2021-03-26T17:00:00</td>\n",
              "      <td>ITA</td>\n",
              "      <td>10</td>\n",
              "      <td>Umbria</td>\n",
              "      <td>43.106758</td>\n",
              "      <td>12.388247</td>\n",
              "      <td>376</td>\n",
              "      <td>57</td>\n",
              "      <td>433</td>\n",
              "      <td>4817</td>\n",
              "      <td>5250</td>\n",
              "      <td>83</td>\n",
              "      <td>320</td>\n",
              "      <td>43640</td>\n",
              "      <td>1237</td>\n",
              "      <td>50127</td>\n",
              "      <td>957768</td>\n",
              "    </tr>\n",
              "    <tr>\n",
              "      <th>8335</th>\n",
              "      <td>2021-03-26T17:00:00</td>\n",
              "      <td>ITA</td>\n",
              "      <td>2</td>\n",
              "      <td>Valle d'Aosta</td>\n",
              "      <td>45.737503</td>\n",
              "      <td>7.320149</td>\n",
              "      <td>24</td>\n",
              "      <td>7</td>\n",
              "      <td>31</td>\n",
              "      <td>659</td>\n",
              "      <td>690</td>\n",
              "      <td>41</td>\n",
              "      <td>57</td>\n",
              "      <td>7763</td>\n",
              "      <td>420</td>\n",
              "      <td>8873</td>\n",
              "      <td>91388</td>\n",
              "    </tr>\n",
              "    <tr>\n",
              "      <th>8336</th>\n",
              "      <td>2021-03-26T17:00:00</td>\n",
              "      <td>ITA</td>\n",
              "      <td>5</td>\n",
              "      <td>Veneto</td>\n",
              "      <td>45.434905</td>\n",
              "      <td>12.338452</td>\n",
              "      <td>1548</td>\n",
              "      <td>257</td>\n",
              "      <td>1805</td>\n",
              "      <td>37551</td>\n",
              "      <td>39356</td>\n",
              "      <td>173</td>\n",
              "      <td>2095</td>\n",
              "      <td>325644</td>\n",
              "      <td>10500</td>\n",
              "      <td>375500</td>\n",
              "      <td>6019629</td>\n",
              "    </tr>\n",
              "  </tbody>\n",
              "</table>\n",
              "<p>8337 rows × 17 columns</p>\n",
              "</div>"
            ],
            "text/plain": [
              "                     data stato  codice_regione  ... deceduti  totale_casi  tamponi\n",
              "0     2020-02-24T18:00:00   ITA              13  ...        0            0        5\n",
              "1     2020-02-24T18:00:00   ITA              17  ...        0            0        0\n",
              "2     2020-02-24T18:00:00   ITA              18  ...        0            0        1\n",
              "3     2020-02-24T18:00:00   ITA              15  ...        0            0       10\n",
              "4     2020-02-24T18:00:00   ITA               8  ...        0           18      148\n",
              "...                   ...   ...             ...  ...      ...          ...      ...\n",
              "8332  2021-03-26T17:00:00   ITA              19  ...     4535       169808  3069858\n",
              "8333  2021-03-26T17:00:00   ITA               9  ...     5220       188800  3312214\n",
              "8334  2021-03-26T17:00:00   ITA              10  ...     1237        50127   957768\n",
              "8335  2021-03-26T17:00:00   ITA               2  ...      420         8873    91388\n",
              "8336  2021-03-26T17:00:00   ITA               5  ...    10500       375500  6019629\n",
              "\n",
              "[8337 rows x 17 columns]"
            ]
          },
          "metadata": {
            "tags": []
          },
          "execution_count": 46
        }
      ]
    },
    {
      "cell_type": "markdown",
      "metadata": {
        "id": "iCge39apCvb2"
      },
      "source": [
        "#### Single Feature Scaling\n"
      ]
    },
    {
      "cell_type": "markdown",
      "metadata": {
        "id": "TTUR6ZeODHBB"
      },
      "source": [
        "Este método convierte cada valor de una columna en un número entre 0 y 1. El nuevo valor se calcula como el valor actual dividido por el valor máximo de la columna. Implementelo en la columna `tamponi`"
      ]
    },
    {
      "cell_type": "code",
      "metadata": {
        "id": "YMzT0M-5DDYT",
        "colab": {
          "base_uri": "https://localhost:8080/"
        },
        "outputId": "388707f1-c64d-4df4-c2db-1b440212b998"
      },
      "source": [
        "df_italia['tamponi'] = df_italia['tamponi']/df_italia['tamponi'].max()\n",
        "df_italia['tamponi']"
      ],
      "execution_count": 49,
      "outputs": [
        {
          "output_type": "execute_result",
          "data": {
            "text/plain": [
              "0       6.294980e-07\n",
              "1       0.000000e+00\n",
              "2       1.258996e-07\n",
              "3       1.258996e-06\n",
              "4       1.863314e-05\n",
              "            ...     \n",
              "8332    3.864939e-01\n",
              "8333    4.170064e-01\n",
              "8334    1.205826e-01\n",
              "8335    1.150571e-02\n",
              "8336    7.578689e-01\n",
              "Name: tamponi, Length: 8337, dtype: float64"
            ]
          },
          "metadata": {
            "tags": []
          },
          "execution_count": 49
        }
      ]
    },
    {
      "cell_type": "code",
      "metadata": {
        "id": "kUNf_cF2kJec"
      },
      "source": [
        ""
      ],
      "execution_count": null,
      "outputs": []
    },
    {
      "cell_type": "markdown",
      "metadata": {
        "id": "gNJAX1EcDVuj"
      },
      "source": [
        "#### Min Max"
      ]
    },
    {
      "cell_type": "markdown",
      "metadata": {
        "id": "6WoNcxVNDYMC"
      },
      "source": [
        "De manera similar al método anterior, Min Max convierte cada valor de una columna en un número entre 0 y 1. El nuevo valor se calcula como la diferencia entre el valor actual y el valor mínimo, dividido por el rango de los valores de la columna. Implementelo para la columna `totale_casi`"
      ]
    },
    {
      "cell_type": "code",
      "metadata": {
        "id": "NaV8qtXxDq9r",
        "colab": {
          "base_uri": "https://localhost:8080/"
        },
        "outputId": "44dbbeb1-e512-4e4e-e024-7cc5850b3a94"
      },
      "source": [
        "df_italia['totale_casi'] = (df_italia['totale_casi'] - df_italia['totale_casi'].min())/(df_italia['totale_casi'].max() - df_italia['totale_casi'].min())\n",
        "df_italia['totale_casi']"
      ],
      "execution_count": 52,
      "outputs": [
        {
          "output_type": "execute_result",
          "data": {
            "text/plain": [
              "0       0.000000\n",
              "1       0.000000\n",
              "2       0.000000\n",
              "3       0.000000\n",
              "4       0.000025\n",
              "          ...   \n",
              "8332    0.236477\n",
              "8333    0.262926\n",
              "8334    0.069808\n",
              "8335    0.012357\n",
              "8336    0.522927\n",
              "Name: totale_casi, Length: 8337, dtype: float64"
            ]
          },
          "metadata": {
            "tags": []
          },
          "execution_count": 52
        }
      ]
    },
    {
      "cell_type": "markdown",
      "metadata": {
        "id": "9QEW9QLkESiA"
      },
      "source": [
        "#### Z Score"
      ]
    },
    {
      "cell_type": "markdown",
      "metadata": {
        "id": "IB3LDG4UEUdk"
      },
      "source": [
        "Z-Score convierte cada valor de una columna en un número alrededor de 0. Los valores típicos obtenidos por una transformación de z-score oscilan entre -3 y 3. \n",
        "\n",
        "El nuevo valor se calcula como la diferencia entre el valor actual y el valor promedio, dividido por la desviación estándar. El valor promedio de una columna se puede obtener a través de la función `mean()`, mientras que la desviación estándar a través de la función `std()`. \n",
        "\n",
        "Implementelo para la columna ```deceduti```\n",
        "\n"
      ]
    },
    {
      "cell_type": "code",
      "metadata": {
        "id": "ZlTPNyA6FdwH",
        "colab": {
          "base_uri": "https://localhost:8080/"
        },
        "outputId": "22e22501-7fdc-455c-a84f-011b24415e40"
      },
      "source": [
        "df_italia['deceduti'] = (df_italia['deceduti']-df_italia['deceduti'].mean())/df_italia['deceduti'].std()\n",
        "df_italia['deceduti']"
      ],
      "execution_count": 53,
      "outputs": [
        {
          "output_type": "execute_result",
          "data": {
            "text/plain": [
              "0      -0.506791\n",
              "1      -0.506791\n",
              "2      -0.506791\n",
              "3      -0.506791\n",
              "4      -0.506791\n",
              "          ...   \n",
              "8332    0.534842\n",
              "8333    0.692178\n",
              "8334   -0.222668\n",
              "8335   -0.410322\n",
              "8336    1.904928\n",
              "Name: deceduti, Length: 8337, dtype: float64"
            ]
          },
          "metadata": {
            "tags": []
          },
          "execution_count": 53
        }
      ]
    },
    {
      "cell_type": "markdown",
      "metadata": {
        "id": "oPNYy8sNdcFD"
      },
      "source": [
        "La siguiente función dibuja un gráfico de caja con los datos que recibe para poder observar su distribución. Utilicela pasando la versión normalizada de la columna `deceduti` del dataset como parámetro."
      ]
    },
    {
      "cell_type": "code",
      "metadata": {
        "id": "Kdpn9FTmFty2",
        "colab": {
          "base_uri": "https://localhost:8080/",
          "height": 128
        },
        "outputId": "e6949327-e5d4-4128-e2c9-dfd15616d440"
      },
      "source": [
        "import matplotlib.pyplot as plt\n",
        "import numpy as np\n",
        "def boxplot(data):\n",
        "  %matplotlib inline\n",
        "  fig = plt.figure(figsize =(5, 5)) \n",
        "  plt.boxplot('df_italy')\n",
        "  plt.show()\n",
        " df_italia.boxplot\n",
        "#inserte su código aquí\n"
      ],
      "execution_count": 91,
      "outputs": [
        {
          "output_type": "error",
          "ename": "IndentationError",
          "evalue": "ignored",
          "traceback": [
            "\u001b[0;36m  File \u001b[0;32m\"<ipython-input-91-226de90083fd>\"\u001b[0;36m, line \u001b[0;32m8\u001b[0m\n\u001b[0;31m    df_italia.boxplot\u001b[0m\n\u001b[0m                     ^\u001b[0m\n\u001b[0;31mIndentationError\u001b[0m\u001b[0;31m:\u001b[0m unindent does not match any outer indentation level\n"
          ]
        }
      ]
    },
    {
      "cell_type": "markdown",
      "metadata": {
        "id": "zyeamlS0IJot"
      },
      "source": [
        "En el gráfico de caja anterior se puede observar que a partir de cierto valor de Z los valores son outliers o valores anómalos."
      ]
    },
    {
      "cell_type": "markdown",
      "metadata": {
        "id": "kdXbrAHhh7dx"
      },
      "source": [
        "La siguiente función también realiza un gráfico de caja, pero antes filtra todos los valores outliers en base a un parámetro threshold. Llame a la función pasando la versión normalizada de la columna `deceduti` del dataset como parámetro `data`. Además elija un valor para el parámetro `threshold` de manera de eliminar todos los outliers del dataset. "
      ]
    },
    {
      "cell_type": "code",
      "metadata": {
        "id": "zxRCcFa_GXfa"
      },
      "source": [
        "def boxplot_sin_outliers(data,threshold):\n",
        "  outliers = np.where((data - threshold > 0), True, np.where(data + threshold < 0, True, False))\n",
        "  data_sin_outliers = data[~outliers]\n",
        "  fig = plt.figure(figsize =(10, 7)) \n",
        "  plt.boxplot(data_sin_outliers )\n",
        "  plt.show()\n",
        "\n",
        "#inserte su código aquí\n"
      ],
      "execution_count": 76,
      "outputs": []
    },
    {
      "cell_type": "markdown",
      "metadata": {
        "id": "G89y5PDLIWFO"
      },
      "source": [
        "#### Escala logarítmica"
      ]
    },
    {
      "cell_type": "markdown",
      "metadata": {
        "id": "efNgOPJ2EmEi"
      },
      "source": [
        "Acá básicamente aplicamos la función `log()` a toda la columna. Implemente esta normalización para la columna `dimessi_guariti` Hay que tener cuidado porque el logaritmo de 0 está indeterminado. Les recomendamos utilizar [funciones lambda](https://www.kite.com/python/answers/how-to-use-an-if-statement-in-a-lambda-function-in-python) para sortear esta restricción."
      ]
    },
    {
      "cell_type": "code",
      "metadata": {
        "id": "r3HGjsQLiTHt",
        "colab": {
          "base_uri": "https://localhost:8080/"
        },
        "outputId": "058bcb69-65af-4c63-e37b-d02394918e81"
      },
      "source": [
        "df_italia['dimessi_guariti'] = df_italia['dimessi_guariti'].apply(lambda x: np.log(x) if x != 0 else 0)\n",
        "df_italia['dimessi_guariti']"
      ],
      "execution_count": 55,
      "outputs": [
        {
          "output_type": "execute_result",
          "data": {
            "text/plain": [
              "0       0.000000\n",
              "1       0.000000\n",
              "2       0.000000\n",
              "3       0.000000\n",
              "4       0.000000\n",
              "          ...   \n",
              "8332    2.477448\n",
              "8333    2.481558\n",
              "8334    2.368722\n",
              "8335    2.192449\n",
              "8336    2.541095\n",
              "Name: dimessi_guariti, Length: 8337, dtype: float64"
            ]
          },
          "metadata": {
            "tags": []
          },
          "execution_count": 55
        }
      ]
    },
    {
      "cell_type": "markdown",
      "metadata": {
        "id": "yLllDvgOl_yg"
      },
      "source": [
        "## Parte 2: Manipulación de Datos\n"
      ]
    },
    {
      "cell_type": "markdown",
      "metadata": {
        "id": "-y1Uxgh2mKZC"
      },
      "source": [
        "Repasá lo visto en la clase 2 sobre manipulación de tensores e intentá resolver los siguientes ejercicios."
      ]
    },
    {
      "cell_type": "markdown",
      "metadata": {
        "id": "igHDlbWlmdYs"
      },
      "source": [
        "Primero generemos un tensor de 28x28 llenado con el valor 0.25 en todas sus celdas. Luego generemos un segundo tensor de 28x28 con el valor 0.5 y otro con el valor 0.75"
      ]
    },
    {
      "cell_type": "code",
      "metadata": {
        "id": "_ihr6267nT6U"
      },
      "source": [
        "t1=torch.ones(28,28)*0.25\n",
        "\n",
        "t2=torch.ones(28,28)*0.5\n",
        "\n",
        "t3=torch.ones(28,28)*0.75\n"
      ],
      "execution_count": 94,
      "outputs": []
    },
    {
      "cell_type": "markdown",
      "metadata": {
        "id": "4Q_tNCuanv8W"
      },
      "source": [
        "Ahora concatene los 3 tensores en uno solo de dimensión 3X28X28"
      ]
    },
    {
      "cell_type": "code",
      "metadata": {
        "id": "Ls0zAT93n5Ke",
        "colab": {
          "base_uri": "https://localhost:8080/"
        },
        "outputId": "d9c7d461-a5ec-4d15-e9a6-96d10a1cb5f1"
      },
      "source": [
        "tt = torch.stack((t1,t2,t3),dim=0)\n",
        "tt"
      ],
      "execution_count": 95,
      "outputs": [
        {
          "output_type": "execute_result",
          "data": {
            "text/plain": [
              "tensor([[[0.2500, 0.2500, 0.2500,  ..., 0.2500, 0.2500, 0.2500],\n",
              "         [0.2500, 0.2500, 0.2500,  ..., 0.2500, 0.2500, 0.2500],\n",
              "         [0.2500, 0.2500, 0.2500,  ..., 0.2500, 0.2500, 0.2500],\n",
              "         ...,\n",
              "         [0.2500, 0.2500, 0.2500,  ..., 0.2500, 0.2500, 0.2500],\n",
              "         [0.2500, 0.2500, 0.2500,  ..., 0.2500, 0.2500, 0.2500],\n",
              "         [0.2500, 0.2500, 0.2500,  ..., 0.2500, 0.2500, 0.2500]],\n",
              "\n",
              "        [[0.5000, 0.5000, 0.5000,  ..., 0.5000, 0.5000, 0.5000],\n",
              "         [0.5000, 0.5000, 0.5000,  ..., 0.5000, 0.5000, 0.5000],\n",
              "         [0.5000, 0.5000, 0.5000,  ..., 0.5000, 0.5000, 0.5000],\n",
              "         ...,\n",
              "         [0.5000, 0.5000, 0.5000,  ..., 0.5000, 0.5000, 0.5000],\n",
              "         [0.5000, 0.5000, 0.5000,  ..., 0.5000, 0.5000, 0.5000],\n",
              "         [0.5000, 0.5000, 0.5000,  ..., 0.5000, 0.5000, 0.5000]],\n",
              "\n",
              "        [[0.7500, 0.7500, 0.7500,  ..., 0.7500, 0.7500, 0.7500],\n",
              "         [0.7500, 0.7500, 0.7500,  ..., 0.7500, 0.7500, 0.7500],\n",
              "         [0.7500, 0.7500, 0.7500,  ..., 0.7500, 0.7500, 0.7500],\n",
              "         ...,\n",
              "         [0.7500, 0.7500, 0.7500,  ..., 0.7500, 0.7500, 0.7500],\n",
              "         [0.7500, 0.7500, 0.7500,  ..., 0.7500, 0.7500, 0.7500],\n",
              "         [0.7500, 0.7500, 0.7500,  ..., 0.7500, 0.7500, 0.7500]]])"
            ]
          },
          "metadata": {
            "tags": []
          },
          "execution_count": 95
        }
      ]
    },
    {
      "cell_type": "markdown",
      "metadata": {
        "id": "3VajCGlzn46x"
      },
      "source": [
        "Transformar el tensor anterior para que tenga 6 canales en lugar de 3. Organice las filas y columnas a su gusto."
      ]
    },
    {
      "cell_type": "code",
      "metadata": {
        "id": "N9mom4B6pZmM",
        "colab": {
          "base_uri": "https://localhost:8080/"
        },
        "outputId": "a6f0d158-74e7-4d40-e377-2a24e040ee5f"
      },
      "source": [
        "ntt=tt.reshape(6,14,-1)\n",
        "ntt"
      ],
      "execution_count": 96,
      "outputs": [
        {
          "output_type": "execute_result",
          "data": {
            "text/plain": [
              "tensor([[[0.2500, 0.2500, 0.2500,  ..., 0.2500, 0.2500, 0.2500],\n",
              "         [0.2500, 0.2500, 0.2500,  ..., 0.2500, 0.2500, 0.2500],\n",
              "         [0.2500, 0.2500, 0.2500,  ..., 0.2500, 0.2500, 0.2500],\n",
              "         ...,\n",
              "         [0.2500, 0.2500, 0.2500,  ..., 0.2500, 0.2500, 0.2500],\n",
              "         [0.2500, 0.2500, 0.2500,  ..., 0.2500, 0.2500, 0.2500],\n",
              "         [0.2500, 0.2500, 0.2500,  ..., 0.2500, 0.2500, 0.2500]],\n",
              "\n",
              "        [[0.2500, 0.2500, 0.2500,  ..., 0.2500, 0.2500, 0.2500],\n",
              "         [0.2500, 0.2500, 0.2500,  ..., 0.2500, 0.2500, 0.2500],\n",
              "         [0.2500, 0.2500, 0.2500,  ..., 0.2500, 0.2500, 0.2500],\n",
              "         ...,\n",
              "         [0.2500, 0.2500, 0.2500,  ..., 0.2500, 0.2500, 0.2500],\n",
              "         [0.2500, 0.2500, 0.2500,  ..., 0.2500, 0.2500, 0.2500],\n",
              "         [0.2500, 0.2500, 0.2500,  ..., 0.2500, 0.2500, 0.2500]],\n",
              "\n",
              "        [[0.5000, 0.5000, 0.5000,  ..., 0.5000, 0.5000, 0.5000],\n",
              "         [0.5000, 0.5000, 0.5000,  ..., 0.5000, 0.5000, 0.5000],\n",
              "         [0.5000, 0.5000, 0.5000,  ..., 0.5000, 0.5000, 0.5000],\n",
              "         ...,\n",
              "         [0.5000, 0.5000, 0.5000,  ..., 0.5000, 0.5000, 0.5000],\n",
              "         [0.5000, 0.5000, 0.5000,  ..., 0.5000, 0.5000, 0.5000],\n",
              "         [0.5000, 0.5000, 0.5000,  ..., 0.5000, 0.5000, 0.5000]],\n",
              "\n",
              "        [[0.5000, 0.5000, 0.5000,  ..., 0.5000, 0.5000, 0.5000],\n",
              "         [0.5000, 0.5000, 0.5000,  ..., 0.5000, 0.5000, 0.5000],\n",
              "         [0.5000, 0.5000, 0.5000,  ..., 0.5000, 0.5000, 0.5000],\n",
              "         ...,\n",
              "         [0.5000, 0.5000, 0.5000,  ..., 0.5000, 0.5000, 0.5000],\n",
              "         [0.5000, 0.5000, 0.5000,  ..., 0.5000, 0.5000, 0.5000],\n",
              "         [0.5000, 0.5000, 0.5000,  ..., 0.5000, 0.5000, 0.5000]],\n",
              "\n",
              "        [[0.7500, 0.7500, 0.7500,  ..., 0.7500, 0.7500, 0.7500],\n",
              "         [0.7500, 0.7500, 0.7500,  ..., 0.7500, 0.7500, 0.7500],\n",
              "         [0.7500, 0.7500, 0.7500,  ..., 0.7500, 0.7500, 0.7500],\n",
              "         ...,\n",
              "         [0.7500, 0.7500, 0.7500,  ..., 0.7500, 0.7500, 0.7500],\n",
              "         [0.7500, 0.7500, 0.7500,  ..., 0.7500, 0.7500, 0.7500],\n",
              "         [0.7500, 0.7500, 0.7500,  ..., 0.7500, 0.7500, 0.7500]],\n",
              "\n",
              "        [[0.7500, 0.7500, 0.7500,  ..., 0.7500, 0.7500, 0.7500],\n",
              "         [0.7500, 0.7500, 0.7500,  ..., 0.7500, 0.7500, 0.7500],\n",
              "         [0.7500, 0.7500, 0.7500,  ..., 0.7500, 0.7500, 0.7500],\n",
              "         ...,\n",
              "         [0.7500, 0.7500, 0.7500,  ..., 0.7500, 0.7500, 0.7500],\n",
              "         [0.7500, 0.7500, 0.7500,  ..., 0.7500, 0.7500, 0.7500],\n",
              "         [0.7500, 0.7500, 0.7500,  ..., 0.7500, 0.7500, 0.7500]]])"
            ]
          },
          "metadata": {
            "tags": []
          },
          "execution_count": 96
        }
      ]
    },
    {
      "cell_type": "markdown",
      "metadata": {
        "id": "CVJP3VvCp6Yy"
      },
      "source": [
        "Devolver el valor de la suma de cada canal por separado. (Recordemos que en los vectores tridimensionales la forma es (canales, filas, columnas)"
      ]
    },
    {
      "cell_type": "code",
      "metadata": {
        "id": "lvMLOXZQp-eb",
        "colab": {
          "base_uri": "https://localhost:8080/"
        },
        "outputId": "6cce4c36-7c0a-40a1-d00e-85b48602069c"
      },
      "source": [
        "torch.sum(ntt[0])\n",
        "\n",
        "torch.sum(ntt[2])"
      ],
      "execution_count": 100,
      "outputs": [
        {
          "output_type": "execute_result",
          "data": {
            "text/plain": [
              "tensor(196.)"
            ]
          },
          "metadata": {
            "tags": []
          },
          "execution_count": 100
        }
      ]
    },
    {
      "cell_type": "code",
      "metadata": {
        "colab": {
          "base_uri": "https://localhost:8080/"
        },
        "id": "mXvhSYRl7Aal",
        "outputId": "29870970-4632-4c5e-b654-a39b978023b9"
      },
      "source": [
        "torch.sum(ntt[1])"
      ],
      "execution_count": 101,
      "outputs": [
        {
          "output_type": "execute_result",
          "data": {
            "text/plain": [
              "tensor(98.)"
            ]
          },
          "metadata": {
            "tags": []
          },
          "execution_count": 101
        }
      ]
    },
    {
      "cell_type": "code",
      "metadata": {
        "colab": {
          "base_uri": "https://localhost:8080/"
        },
        "id": "u25mzc_A64LN",
        "outputId": "299fb666-7686-4363-90a8-78f03178cb5a"
      },
      "source": [
        "torch.sum(ntt[2])\n"
      ],
      "execution_count": 104,
      "outputs": [
        {
          "output_type": "execute_result",
          "data": {
            "text/plain": [
              "tensor(196.)"
            ]
          },
          "metadata": {
            "tags": []
          },
          "execution_count": 104
        }
      ]
    },
    {
      "cell_type": "code",
      "metadata": {
        "colab": {
          "base_uri": "https://localhost:8080/"
        },
        "id": "LKO2z5nj7dJr",
        "outputId": "dc4e7a25-0744-40b8-dbc4-e98a627daa25"
      },
      "source": [
        "torch.sum(ntt[3])\n"
      ],
      "execution_count": 109,
      "outputs": [
        {
          "output_type": "execute_result",
          "data": {
            "text/plain": [
              "tensor(196.)"
            ]
          },
          "metadata": {
            "tags": []
          },
          "execution_count": 109
        }
      ]
    },
    {
      "cell_type": "code",
      "metadata": {
        "colab": {
          "base_uri": "https://localhost:8080/"
        },
        "id": "mCgGHvcq7o-q",
        "outputId": "ad8acca1-d9bc-4789-dd94-3996c569c2b0"
      },
      "source": [
        "torch.sum(ntt[4])"
      ],
      "execution_count": 110,
      "outputs": [
        {
          "output_type": "execute_result",
          "data": {
            "text/plain": [
              "tensor(294.)"
            ]
          },
          "metadata": {
            "tags": []
          },
          "execution_count": 110
        }
      ]
    },
    {
      "cell_type": "code",
      "metadata": {
        "colab": {
          "base_uri": "https://localhost:8080/"
        },
        "id": "Mg7PyWOL7s68",
        "outputId": "06b2aef0-d6b2-475d-e537-7952b87232ba"
      },
      "source": [
        "torch.sum(ntt[5])"
      ],
      "execution_count": 111,
      "outputs": [
        {
          "output_type": "execute_result",
          "data": {
            "text/plain": [
              "tensor(294.)"
            ]
          },
          "metadata": {
            "tags": []
          },
          "execution_count": 111
        }
      ]
    },
    {
      "cell_type": "markdown",
      "metadata": {
        "id": "dOb_Fu-9q3JP"
      },
      "source": [
        "Llenar la primera fila de cada canal con ceros y llenar el quinto canal con unos. Volver a generar las sumas para cada canal."
      ]
    },
    {
      "cell_type": "code",
      "metadata": {
        "id": "OZ4gx1F7r4il",
        "colab": {
          "base_uri": "https://localhost:8080/"
        },
        "outputId": "af2ffeb7-41f5-4186-fb2f-493c44dd05ff"
      },
      "source": [
        "ntt[:,0,:]=0\n",
        "\n",
        "ntt[4,:,:]=1\n",
        "ntt"
      ],
      "execution_count": 114,
      "outputs": [
        {
          "output_type": "execute_result",
          "data": {
            "text/plain": [
              "tensor([[[0.0000, 0.0000, 0.0000,  ..., 0.0000, 0.0000, 0.0000],\n",
              "         [0.2500, 0.2500, 0.2500,  ..., 0.2500, 0.2500, 0.2500],\n",
              "         [0.2500, 0.2500, 0.2500,  ..., 0.2500, 0.2500, 0.2500],\n",
              "         ...,\n",
              "         [0.2500, 0.2500, 0.2500,  ..., 0.2500, 0.2500, 0.2500],\n",
              "         [0.2500, 0.2500, 0.2500,  ..., 0.2500, 0.2500, 0.2500],\n",
              "         [0.2500, 0.2500, 0.2500,  ..., 0.2500, 0.2500, 0.2500]],\n",
              "\n",
              "        [[0.0000, 0.0000, 0.0000,  ..., 0.0000, 0.0000, 0.0000],\n",
              "         [0.2500, 0.2500, 0.2500,  ..., 0.2500, 0.2500, 0.2500],\n",
              "         [0.2500, 0.2500, 0.2500,  ..., 0.2500, 0.2500, 0.2500],\n",
              "         ...,\n",
              "         [0.2500, 0.2500, 0.2500,  ..., 0.2500, 0.2500, 0.2500],\n",
              "         [0.2500, 0.2500, 0.2500,  ..., 0.2500, 0.2500, 0.2500],\n",
              "         [0.2500, 0.2500, 0.2500,  ..., 0.2500, 0.2500, 0.2500]],\n",
              "\n",
              "        [[0.0000, 0.0000, 0.0000,  ..., 0.0000, 0.0000, 0.0000],\n",
              "         [0.5000, 0.5000, 0.5000,  ..., 0.5000, 0.5000, 0.5000],\n",
              "         [0.5000, 0.5000, 0.5000,  ..., 0.5000, 0.5000, 0.5000],\n",
              "         ...,\n",
              "         [0.5000, 0.5000, 0.5000,  ..., 0.5000, 0.5000, 0.5000],\n",
              "         [0.5000, 0.5000, 0.5000,  ..., 0.5000, 0.5000, 0.5000],\n",
              "         [0.5000, 0.5000, 0.5000,  ..., 0.5000, 0.5000, 0.5000]],\n",
              "\n",
              "        [[0.0000, 0.0000, 0.0000,  ..., 0.0000, 0.0000, 0.0000],\n",
              "         [0.5000, 0.5000, 0.5000,  ..., 0.5000, 0.5000, 0.5000],\n",
              "         [0.5000, 0.5000, 0.5000,  ..., 0.5000, 0.5000, 0.5000],\n",
              "         ...,\n",
              "         [0.5000, 0.5000, 0.5000,  ..., 0.5000, 0.5000, 0.5000],\n",
              "         [0.5000, 0.5000, 0.5000,  ..., 0.5000, 0.5000, 0.5000],\n",
              "         [0.5000, 0.5000, 0.5000,  ..., 0.5000, 0.5000, 0.5000]],\n",
              "\n",
              "        [[1.0000, 1.0000, 1.0000,  ..., 1.0000, 1.0000, 1.0000],\n",
              "         [1.0000, 1.0000, 1.0000,  ..., 1.0000, 1.0000, 1.0000],\n",
              "         [1.0000, 1.0000, 1.0000,  ..., 1.0000, 1.0000, 1.0000],\n",
              "         ...,\n",
              "         [1.0000, 1.0000, 1.0000,  ..., 1.0000, 1.0000, 1.0000],\n",
              "         [1.0000, 1.0000, 1.0000,  ..., 1.0000, 1.0000, 1.0000],\n",
              "         [1.0000, 1.0000, 1.0000,  ..., 1.0000, 1.0000, 1.0000]],\n",
              "\n",
              "        [[0.0000, 0.0000, 0.0000,  ..., 0.0000, 0.0000, 0.0000],\n",
              "         [0.7500, 0.7500, 0.7500,  ..., 0.7500, 0.7500, 0.7500],\n",
              "         [0.7500, 0.7500, 0.7500,  ..., 0.7500, 0.7500, 0.7500],\n",
              "         ...,\n",
              "         [0.7500, 0.7500, 0.7500,  ..., 0.7500, 0.7500, 0.7500],\n",
              "         [0.7500, 0.7500, 0.7500,  ..., 0.7500, 0.7500, 0.7500],\n",
              "         [0.7500, 0.7500, 0.7500,  ..., 0.7500, 0.7500, 0.7500]]])"
            ]
          },
          "metadata": {
            "tags": []
          },
          "execution_count": 114
        }
      ]
    },
    {
      "cell_type": "code",
      "metadata": {
        "colab": {
          "base_uri": "https://localhost:8080/"
        },
        "id": "_SGPP8x_8y4G",
        "outputId": "caa17266-ee1e-402b-c5c0-54300b42d365"
      },
      "source": [
        "torch.sum(ntt[0])"
      ],
      "execution_count": 116,
      "outputs": [
        {
          "output_type": "execute_result",
          "data": {
            "text/plain": [
              "tensor(91.)"
            ]
          },
          "metadata": {
            "tags": []
          },
          "execution_count": 116
        }
      ]
    },
    {
      "cell_type": "markdown",
      "metadata": {
        "id": "lYEOm_cpsZTk"
      },
      "source": [
        "Generar otro tensor con la misma forma que el anteriores, pero lleno de valores aleatorios."
      ]
    },
    {
      "cell_type": "code",
      "metadata": {
        "id": "U9x21z72sYyR",
        "colab": {
          "base_uri": "https://localhost:8080/"
        },
        "outputId": "eff02134-8add-49c8-a9e1-60b75d6359c4"
      },
      "source": [
        "r=torch.randn(6,14, 28)\n",
        "r"
      ],
      "execution_count": 119,
      "outputs": [
        {
          "output_type": "execute_result",
          "data": {
            "text/plain": [
              "tensor([[[ 2.1901e-01, -9.1494e-01, -2.3668e-01,  ..., -9.0872e-01,\n",
              "          -4.0015e-01,  7.3447e-01],\n",
              "         [-3.0724e-01,  5.0212e-01,  9.8726e-01,  ...,  1.0341e+00,\n",
              "           2.6174e+00,  1.7510e-01],\n",
              "         [-6.6159e-01, -5.9639e-01,  6.4070e-01,  ...,  1.7048e+00,\n",
              "           8.2829e-01, -5.9184e-01],\n",
              "         ...,\n",
              "         [ 1.3011e-01,  2.4563e+00,  1.2310e+00,  ...,  7.3567e-01,\n",
              "           1.0716e-01, -3.0320e-01],\n",
              "         [-5.0159e-01,  2.0641e+00,  3.9743e-01,  ..., -1.0348e+00,\n",
              "           1.0902e+00, -7.4665e-01],\n",
              "         [ 4.9841e-01,  8.3404e-01, -5.7553e-01,  ...,  8.3741e-01,\n",
              "          -1.6837e-01, -1.6128e-01]],\n",
              "\n",
              "        [[ 3.4591e-02,  2.8510e-03,  7.7320e-01,  ..., -3.5644e-01,\n",
              "           3.7821e-01,  2.0045e+00],\n",
              "         [ 4.4869e-01,  7.2332e-01,  3.1104e-01,  ...,  1.1711e-01,\n",
              "           6.4376e-01,  1.0557e-01],\n",
              "         [-1.2959e-01, -9.4270e-01, -9.8519e-02,  ...,  1.9322e-01,\n",
              "          -1.8601e+00,  3.3894e-01],\n",
              "         ...,\n",
              "         [-1.0696e-01,  9.6208e-01, -9.7726e-01,  ...,  1.8946e+00,\n",
              "          -2.9210e-01,  1.0944e-01],\n",
              "         [ 2.0464e-01, -1.6347e+00,  8.7868e-01,  ...,  1.8771e+00,\n",
              "          -2.3429e-01, -4.0226e-01],\n",
              "         [-2.5570e-01, -1.3078e+00, -5.8002e-02,  ...,  6.0586e-01,\n",
              "          -5.1615e-01, -7.0107e-01]],\n",
              "\n",
              "        [[-1.3185e+00, -2.1541e-01,  8.4118e-01,  ...,  1.0342e+00,\n",
              "           1.7674e+00,  9.7579e-01],\n",
              "         [ 1.0091e+00, -3.7206e-01, -1.0449e+00,  ...,  1.5291e+00,\n",
              "           1.4842e+00,  1.7451e-01],\n",
              "         [ 1.9275e+00, -2.3702e+00,  5.3213e-01,  ...,  8.5985e-01,\n",
              "          -8.9027e-01,  5.0960e-02],\n",
              "         ...,\n",
              "         [ 6.6221e-01, -2.2859e+00,  8.6310e-01,  ..., -2.7460e-01,\n",
              "           8.9898e-01, -5.9461e-01],\n",
              "         [ 1.5830e+00, -8.1663e-01,  1.0296e+00,  ..., -3.3374e-01,\n",
              "          -8.6974e-01, -5.8484e-01],\n",
              "         [ 1.8409e-03,  2.1433e+00,  1.1553e+00,  ...,  1.3450e+00,\n",
              "          -1.0115e+00,  7.2699e-01]],\n",
              "\n",
              "        [[-5.1324e-01, -1.0979e+00,  7.2575e-01,  ..., -7.0640e-01,\n",
              "           6.2304e-01,  2.5446e-01],\n",
              "         [ 1.2007e+00,  1.0113e-01, -8.8898e-01,  ..., -9.7802e-01,\n",
              "           2.6767e-01, -1.0553e+00],\n",
              "         [ 4.7011e-01,  1.4749e+00, -1.5598e+00,  ..., -3.5161e-01,\n",
              "          -6.8729e-01, -4.2074e-01],\n",
              "         ...,\n",
              "         [-2.8370e-01,  4.8684e-01, -1.1579e+00,  ...,  1.6110e-01,\n",
              "           2.3562e-01, -1.7525e+00],\n",
              "         [-1.1091e+00,  1.5064e+00, -1.0216e+00,  ..., -1.4922e+00,\n",
              "          -1.5807e+00,  1.4259e+00],\n",
              "         [-5.5303e-01, -9.3011e-02, -3.6174e-01,  ...,  4.3006e-01,\n",
              "           1.9585e+00, -1.3974e+00]],\n",
              "\n",
              "        [[ 1.0045e+00,  6.5517e-01,  5.1982e-01,  ...,  5.9255e-01,\n",
              "           5.8070e-02,  2.6355e-01],\n",
              "         [ 8.7379e-01, -1.7605e-01, -2.3069e+00,  ..., -3.7091e-01,\n",
              "          -2.5447e-01,  4.6311e-01],\n",
              "         [-5.1383e-01,  1.9497e-01,  9.2422e-02,  ...,  2.0813e-01,\n",
              "           2.3873e+00, -3.6825e-01],\n",
              "         ...,\n",
              "         [ 6.3908e-01, -2.3209e-01,  1.1476e+00,  ..., -1.0715e-03,\n",
              "           7.9600e-02,  1.0311e+00],\n",
              "         [ 1.1266e+00,  6.4635e-01,  4.3632e-01,  ..., -7.8908e-01,\n",
              "          -1.7709e+00,  4.1896e-01],\n",
              "         [-1.5266e+00, -2.5002e-01,  4.4907e-01,  ..., -4.9708e-02,\n",
              "          -1.2162e-01,  4.8651e-01]],\n",
              "\n",
              "        [[ 1.6897e+00,  1.1451e+00, -6.0031e-01,  ...,  1.1967e+00,\n",
              "           3.5536e-01,  1.6589e-01],\n",
              "         [ 2.0365e-01, -1.1185e-01, -3.0048e-01,  ...,  2.3031e-01,\n",
              "          -1.7734e+00, -4.6074e-01],\n",
              "         [-1.2555e+00,  5.9904e-01, -1.2522e+00,  ..., -1.0983e-02,\n",
              "          -7.9456e-01,  5.9917e-01],\n",
              "         ...,\n",
              "         [ 3.0494e-01,  1.0236e+00, -4.9723e-01,  ..., -1.8674e+00,\n",
              "          -3.4928e-01, -1.0209e+00],\n",
              "         [-1.3790e+00, -5.0080e-01, -6.3459e-01,  ...,  9.6847e-01,\n",
              "           8.5523e-02,  1.2796e-01],\n",
              "         [ 2.9543e-01,  6.6488e-01,  1.5518e+00,  ...,  2.3548e-01,\n",
              "           1.5927e+00, -5.3089e-01]]])"
            ]
          },
          "metadata": {
            "tags": []
          },
          "execution_count": 119
        }
      ]
    },
    {
      "cell_type": "markdown",
      "metadata": {
        "id": "BCFEEKPHsqQn"
      },
      "source": [
        "Concatenar ambos tensores tridimensionales en un tensor de cuatro dimensiones. "
      ]
    },
    {
      "cell_type": "code",
      "metadata": {
        "id": "VtrQYE85sOdX",
        "colab": {
          "base_uri": "https://localhost:8080/"
        },
        "outputId": "6acf880c-07e7-4333-cda8-3b329d1af098"
      },
      "source": [
        "tr = torch.stack((ntt,r),dim=0)\n",
        "tr"
      ],
      "execution_count": 121,
      "outputs": [
        {
          "output_type": "execute_result",
          "data": {
            "text/plain": [
              "tensor([[[[ 0.0000e+00,  0.0000e+00,  0.0000e+00,  ...,  0.0000e+00,\n",
              "            0.0000e+00,  0.0000e+00],\n",
              "          [ 2.5000e-01,  2.5000e-01,  2.5000e-01,  ...,  2.5000e-01,\n",
              "            2.5000e-01,  2.5000e-01],\n",
              "          [ 2.5000e-01,  2.5000e-01,  2.5000e-01,  ...,  2.5000e-01,\n",
              "            2.5000e-01,  2.5000e-01],\n",
              "          ...,\n",
              "          [ 2.5000e-01,  2.5000e-01,  2.5000e-01,  ...,  2.5000e-01,\n",
              "            2.5000e-01,  2.5000e-01],\n",
              "          [ 2.5000e-01,  2.5000e-01,  2.5000e-01,  ...,  2.5000e-01,\n",
              "            2.5000e-01,  2.5000e-01],\n",
              "          [ 2.5000e-01,  2.5000e-01,  2.5000e-01,  ...,  2.5000e-01,\n",
              "            2.5000e-01,  2.5000e-01]],\n",
              "\n",
              "         [[ 0.0000e+00,  0.0000e+00,  0.0000e+00,  ...,  0.0000e+00,\n",
              "            0.0000e+00,  0.0000e+00],\n",
              "          [ 2.5000e-01,  2.5000e-01,  2.5000e-01,  ...,  2.5000e-01,\n",
              "            2.5000e-01,  2.5000e-01],\n",
              "          [ 2.5000e-01,  2.5000e-01,  2.5000e-01,  ...,  2.5000e-01,\n",
              "            2.5000e-01,  2.5000e-01],\n",
              "          ...,\n",
              "          [ 2.5000e-01,  2.5000e-01,  2.5000e-01,  ...,  2.5000e-01,\n",
              "            2.5000e-01,  2.5000e-01],\n",
              "          [ 2.5000e-01,  2.5000e-01,  2.5000e-01,  ...,  2.5000e-01,\n",
              "            2.5000e-01,  2.5000e-01],\n",
              "          [ 2.5000e-01,  2.5000e-01,  2.5000e-01,  ...,  2.5000e-01,\n",
              "            2.5000e-01,  2.5000e-01]],\n",
              "\n",
              "         [[ 0.0000e+00,  0.0000e+00,  0.0000e+00,  ...,  0.0000e+00,\n",
              "            0.0000e+00,  0.0000e+00],\n",
              "          [ 5.0000e-01,  5.0000e-01,  5.0000e-01,  ...,  5.0000e-01,\n",
              "            5.0000e-01,  5.0000e-01],\n",
              "          [ 5.0000e-01,  5.0000e-01,  5.0000e-01,  ...,  5.0000e-01,\n",
              "            5.0000e-01,  5.0000e-01],\n",
              "          ...,\n",
              "          [ 5.0000e-01,  5.0000e-01,  5.0000e-01,  ...,  5.0000e-01,\n",
              "            5.0000e-01,  5.0000e-01],\n",
              "          [ 5.0000e-01,  5.0000e-01,  5.0000e-01,  ...,  5.0000e-01,\n",
              "            5.0000e-01,  5.0000e-01],\n",
              "          [ 5.0000e-01,  5.0000e-01,  5.0000e-01,  ...,  5.0000e-01,\n",
              "            5.0000e-01,  5.0000e-01]],\n",
              "\n",
              "         [[ 0.0000e+00,  0.0000e+00,  0.0000e+00,  ...,  0.0000e+00,\n",
              "            0.0000e+00,  0.0000e+00],\n",
              "          [ 5.0000e-01,  5.0000e-01,  5.0000e-01,  ...,  5.0000e-01,\n",
              "            5.0000e-01,  5.0000e-01],\n",
              "          [ 5.0000e-01,  5.0000e-01,  5.0000e-01,  ...,  5.0000e-01,\n",
              "            5.0000e-01,  5.0000e-01],\n",
              "          ...,\n",
              "          [ 5.0000e-01,  5.0000e-01,  5.0000e-01,  ...,  5.0000e-01,\n",
              "            5.0000e-01,  5.0000e-01],\n",
              "          [ 5.0000e-01,  5.0000e-01,  5.0000e-01,  ...,  5.0000e-01,\n",
              "            5.0000e-01,  5.0000e-01],\n",
              "          [ 5.0000e-01,  5.0000e-01,  5.0000e-01,  ...,  5.0000e-01,\n",
              "            5.0000e-01,  5.0000e-01]],\n",
              "\n",
              "         [[ 1.0000e+00,  1.0000e+00,  1.0000e+00,  ...,  1.0000e+00,\n",
              "            1.0000e+00,  1.0000e+00],\n",
              "          [ 1.0000e+00,  1.0000e+00,  1.0000e+00,  ...,  1.0000e+00,\n",
              "            1.0000e+00,  1.0000e+00],\n",
              "          [ 1.0000e+00,  1.0000e+00,  1.0000e+00,  ...,  1.0000e+00,\n",
              "            1.0000e+00,  1.0000e+00],\n",
              "          ...,\n",
              "          [ 1.0000e+00,  1.0000e+00,  1.0000e+00,  ...,  1.0000e+00,\n",
              "            1.0000e+00,  1.0000e+00],\n",
              "          [ 1.0000e+00,  1.0000e+00,  1.0000e+00,  ...,  1.0000e+00,\n",
              "            1.0000e+00,  1.0000e+00],\n",
              "          [ 1.0000e+00,  1.0000e+00,  1.0000e+00,  ...,  1.0000e+00,\n",
              "            1.0000e+00,  1.0000e+00]],\n",
              "\n",
              "         [[ 0.0000e+00,  0.0000e+00,  0.0000e+00,  ...,  0.0000e+00,\n",
              "            0.0000e+00,  0.0000e+00],\n",
              "          [ 7.5000e-01,  7.5000e-01,  7.5000e-01,  ...,  7.5000e-01,\n",
              "            7.5000e-01,  7.5000e-01],\n",
              "          [ 7.5000e-01,  7.5000e-01,  7.5000e-01,  ...,  7.5000e-01,\n",
              "            7.5000e-01,  7.5000e-01],\n",
              "          ...,\n",
              "          [ 7.5000e-01,  7.5000e-01,  7.5000e-01,  ...,  7.5000e-01,\n",
              "            7.5000e-01,  7.5000e-01],\n",
              "          [ 7.5000e-01,  7.5000e-01,  7.5000e-01,  ...,  7.5000e-01,\n",
              "            7.5000e-01,  7.5000e-01],\n",
              "          [ 7.5000e-01,  7.5000e-01,  7.5000e-01,  ...,  7.5000e-01,\n",
              "            7.5000e-01,  7.5000e-01]]],\n",
              "\n",
              "\n",
              "        [[[ 2.1901e-01, -9.1494e-01, -2.3668e-01,  ..., -9.0872e-01,\n",
              "           -4.0015e-01,  7.3447e-01],\n",
              "          [-3.0724e-01,  5.0212e-01,  9.8726e-01,  ...,  1.0341e+00,\n",
              "            2.6174e+00,  1.7510e-01],\n",
              "          [-6.6159e-01, -5.9639e-01,  6.4070e-01,  ...,  1.7048e+00,\n",
              "            8.2829e-01, -5.9184e-01],\n",
              "          ...,\n",
              "          [ 1.3011e-01,  2.4563e+00,  1.2310e+00,  ...,  7.3567e-01,\n",
              "            1.0716e-01, -3.0320e-01],\n",
              "          [-5.0159e-01,  2.0641e+00,  3.9743e-01,  ..., -1.0348e+00,\n",
              "            1.0902e+00, -7.4665e-01],\n",
              "          [ 4.9841e-01,  8.3404e-01, -5.7553e-01,  ...,  8.3741e-01,\n",
              "           -1.6837e-01, -1.6128e-01]],\n",
              "\n",
              "         [[ 3.4591e-02,  2.8510e-03,  7.7320e-01,  ..., -3.5644e-01,\n",
              "            3.7821e-01,  2.0045e+00],\n",
              "          [ 4.4869e-01,  7.2332e-01,  3.1104e-01,  ...,  1.1711e-01,\n",
              "            6.4376e-01,  1.0557e-01],\n",
              "          [-1.2959e-01, -9.4270e-01, -9.8519e-02,  ...,  1.9322e-01,\n",
              "           -1.8601e+00,  3.3894e-01],\n",
              "          ...,\n",
              "          [-1.0696e-01,  9.6208e-01, -9.7726e-01,  ...,  1.8946e+00,\n",
              "           -2.9210e-01,  1.0944e-01],\n",
              "          [ 2.0464e-01, -1.6347e+00,  8.7868e-01,  ...,  1.8771e+00,\n",
              "           -2.3429e-01, -4.0226e-01],\n",
              "          [-2.5570e-01, -1.3078e+00, -5.8002e-02,  ...,  6.0586e-01,\n",
              "           -5.1615e-01, -7.0107e-01]],\n",
              "\n",
              "         [[-1.3185e+00, -2.1541e-01,  8.4118e-01,  ...,  1.0342e+00,\n",
              "            1.7674e+00,  9.7579e-01],\n",
              "          [ 1.0091e+00, -3.7206e-01, -1.0449e+00,  ...,  1.5291e+00,\n",
              "            1.4842e+00,  1.7451e-01],\n",
              "          [ 1.9275e+00, -2.3702e+00,  5.3213e-01,  ...,  8.5985e-01,\n",
              "           -8.9027e-01,  5.0960e-02],\n",
              "          ...,\n",
              "          [ 6.6221e-01, -2.2859e+00,  8.6310e-01,  ..., -2.7460e-01,\n",
              "            8.9898e-01, -5.9461e-01],\n",
              "          [ 1.5830e+00, -8.1663e-01,  1.0296e+00,  ..., -3.3374e-01,\n",
              "           -8.6974e-01, -5.8484e-01],\n",
              "          [ 1.8409e-03,  2.1433e+00,  1.1553e+00,  ...,  1.3450e+00,\n",
              "           -1.0115e+00,  7.2699e-01]],\n",
              "\n",
              "         [[-5.1324e-01, -1.0979e+00,  7.2575e-01,  ..., -7.0640e-01,\n",
              "            6.2304e-01,  2.5446e-01],\n",
              "          [ 1.2007e+00,  1.0113e-01, -8.8898e-01,  ..., -9.7802e-01,\n",
              "            2.6767e-01, -1.0553e+00],\n",
              "          [ 4.7011e-01,  1.4749e+00, -1.5598e+00,  ..., -3.5161e-01,\n",
              "           -6.8729e-01, -4.2074e-01],\n",
              "          ...,\n",
              "          [-2.8370e-01,  4.8684e-01, -1.1579e+00,  ...,  1.6110e-01,\n",
              "            2.3562e-01, -1.7525e+00],\n",
              "          [-1.1091e+00,  1.5064e+00, -1.0216e+00,  ..., -1.4922e+00,\n",
              "           -1.5807e+00,  1.4259e+00],\n",
              "          [-5.5303e-01, -9.3011e-02, -3.6174e-01,  ...,  4.3006e-01,\n",
              "            1.9585e+00, -1.3974e+00]],\n",
              "\n",
              "         [[ 1.0045e+00,  6.5517e-01,  5.1982e-01,  ...,  5.9255e-01,\n",
              "            5.8070e-02,  2.6355e-01],\n",
              "          [ 8.7379e-01, -1.7605e-01, -2.3069e+00,  ..., -3.7091e-01,\n",
              "           -2.5447e-01,  4.6311e-01],\n",
              "          [-5.1383e-01,  1.9497e-01,  9.2422e-02,  ...,  2.0813e-01,\n",
              "            2.3873e+00, -3.6825e-01],\n",
              "          ...,\n",
              "          [ 6.3908e-01, -2.3209e-01,  1.1476e+00,  ..., -1.0715e-03,\n",
              "            7.9600e-02,  1.0311e+00],\n",
              "          [ 1.1266e+00,  6.4635e-01,  4.3632e-01,  ..., -7.8908e-01,\n",
              "           -1.7709e+00,  4.1896e-01],\n",
              "          [-1.5266e+00, -2.5002e-01,  4.4907e-01,  ..., -4.9708e-02,\n",
              "           -1.2162e-01,  4.8651e-01]],\n",
              "\n",
              "         [[ 1.6897e+00,  1.1451e+00, -6.0031e-01,  ...,  1.1967e+00,\n",
              "            3.5536e-01,  1.6589e-01],\n",
              "          [ 2.0365e-01, -1.1185e-01, -3.0048e-01,  ...,  2.3031e-01,\n",
              "           -1.7734e+00, -4.6074e-01],\n",
              "          [-1.2555e+00,  5.9904e-01, -1.2522e+00,  ..., -1.0983e-02,\n",
              "           -7.9456e-01,  5.9917e-01],\n",
              "          ...,\n",
              "          [ 3.0494e-01,  1.0236e+00, -4.9723e-01,  ..., -1.8674e+00,\n",
              "           -3.4928e-01, -1.0209e+00],\n",
              "          [-1.3790e+00, -5.0080e-01, -6.3459e-01,  ...,  9.6847e-01,\n",
              "            8.5523e-02,  1.2796e-01],\n",
              "          [ 2.9543e-01,  6.6488e-01,  1.5518e+00,  ...,  2.3548e-01,\n",
              "            1.5927e+00, -5.3089e-01]]]])"
            ]
          },
          "metadata": {
            "tags": []
          },
          "execution_count": 121
        }
      ]
    },
    {
      "cell_type": "code",
      "metadata": {
        "colab": {
          "base_uri": "https://localhost:8080/"
        },
        "id": "GKQJhq7X9bCP",
        "outputId": "ea00de02-0d30-4afd-80d8-8ae0c15894e8"
      },
      "source": [
        "tr.shape"
      ],
      "execution_count": 122,
      "outputs": [
        {
          "output_type": "execute_result",
          "data": {
            "text/plain": [
              "torch.Size([2, 6, 14, 28])"
            ]
          },
          "metadata": {
            "tags": []
          },
          "execution_count": 122
        }
      ]
    },
    {
      "cell_type": "markdown",
      "metadata": {
        "id": "xZU9ML6_t65z"
      },
      "source": [
        "Generar un tercer tensor tridimensional que sea la resta de los otros dos y concatenarlo al tensor de cuatro dimensiones."
      ]
    },
    {
      "cell_type": "code",
      "metadata": {
        "id": "DjkSagDet6YN",
        "colab": {
          "base_uri": "https://localhost:8080/"
        },
        "outputId": "7f286192-ff83-4538-f5c2-914d83066b3a"
      },
      "source": [
        "d=ntt-r\n",
        "d"
      ],
      "execution_count": 123,
      "outputs": [
        {
          "output_type": "execute_result",
          "data": {
            "text/plain": [
              "tensor([[[-2.1901e-01,  9.1494e-01,  2.3668e-01,  ...,  9.0872e-01,\n",
              "           4.0015e-01, -7.3447e-01],\n",
              "         [ 5.5724e-01, -2.5212e-01, -7.3726e-01,  ..., -7.8406e-01,\n",
              "          -2.3674e+00,  7.4905e-02],\n",
              "         [ 9.1159e-01,  8.4639e-01, -3.9070e-01,  ..., -1.4548e+00,\n",
              "          -5.7829e-01,  8.4184e-01],\n",
              "         ...,\n",
              "         [ 1.1989e-01, -2.2063e+00, -9.8105e-01,  ..., -4.8567e-01,\n",
              "           1.4284e-01,  5.5320e-01],\n",
              "         [ 7.5159e-01, -1.8141e+00, -1.4743e-01,  ...,  1.2848e+00,\n",
              "          -8.4021e-01,  9.9665e-01],\n",
              "         [-2.4841e-01, -5.8404e-01,  8.2553e-01,  ..., -5.8741e-01,\n",
              "           4.1837e-01,  4.1128e-01]],\n",
              "\n",
              "        [[-3.4591e-02, -2.8510e-03, -7.7320e-01,  ...,  3.5644e-01,\n",
              "          -3.7821e-01, -2.0045e+00],\n",
              "         [-1.9869e-01, -4.7332e-01, -6.1042e-02,  ...,  1.3289e-01,\n",
              "          -3.9376e-01,  1.4443e-01],\n",
              "         [ 3.7959e-01,  1.1927e+00,  3.4852e-01,  ...,  5.6778e-02,\n",
              "           2.1101e+00, -8.8943e-02],\n",
              "         ...,\n",
              "         [ 3.5696e-01, -7.1208e-01,  1.2273e+00,  ..., -1.6446e+00,\n",
              "           5.4210e-01,  1.4056e-01],\n",
              "         [ 4.5363e-02,  1.8847e+00, -6.2868e-01,  ..., -1.6271e+00,\n",
              "           4.8429e-01,  6.5226e-01],\n",
              "         [ 5.0570e-01,  1.5578e+00,  3.0800e-01,  ..., -3.5586e-01,\n",
              "           7.6615e-01,  9.5107e-01]],\n",
              "\n",
              "        [[ 1.3185e+00,  2.1541e-01, -8.4118e-01,  ..., -1.0342e+00,\n",
              "          -1.7674e+00, -9.7579e-01],\n",
              "         [-5.0912e-01,  8.7206e-01,  1.5449e+00,  ..., -1.0291e+00,\n",
              "          -9.8422e-01,  3.2549e-01],\n",
              "         [-1.4275e+00,  2.8702e+00, -3.2129e-02,  ..., -3.5985e-01,\n",
              "           1.3903e+00,  4.4904e-01],\n",
              "         ...,\n",
              "         [-1.6221e-01,  2.7859e+00, -3.6310e-01,  ...,  7.7460e-01,\n",
              "          -3.9898e-01,  1.0946e+00],\n",
              "         [-1.0830e+00,  1.3166e+00, -5.2965e-01,  ...,  8.3374e-01,\n",
              "           1.3697e+00,  1.0848e+00],\n",
              "         [ 4.9816e-01, -1.6433e+00, -6.5533e-01,  ..., -8.4499e-01,\n",
              "           1.5115e+00, -2.2699e-01]],\n",
              "\n",
              "        [[ 5.1324e-01,  1.0979e+00, -7.2575e-01,  ...,  7.0640e-01,\n",
              "          -6.2304e-01, -2.5446e-01],\n",
              "         [-7.0066e-01,  3.9887e-01,  1.3890e+00,  ...,  1.4780e+00,\n",
              "           2.3233e-01,  1.5553e+00],\n",
              "         [ 2.9889e-02, -9.7490e-01,  2.0598e+00,  ...,  8.5161e-01,\n",
              "           1.1873e+00,  9.2074e-01],\n",
              "         ...,\n",
              "         [ 7.8370e-01,  1.3162e-02,  1.6579e+00,  ...,  3.3890e-01,\n",
              "           2.6438e-01,  2.2525e+00],\n",
              "         [ 1.6091e+00, -1.0064e+00,  1.5216e+00,  ...,  1.9922e+00,\n",
              "           2.0807e+00, -9.2591e-01],\n",
              "         [ 1.0530e+00,  5.9301e-01,  8.6174e-01,  ...,  6.9944e-02,\n",
              "          -1.4585e+00,  1.8974e+00]],\n",
              "\n",
              "        [[-4.4763e-03,  3.4483e-01,  4.8018e-01,  ...,  4.0745e-01,\n",
              "           9.4193e-01,  7.3645e-01],\n",
              "         [ 1.2621e-01,  1.1761e+00,  3.3069e+00,  ...,  1.3709e+00,\n",
              "           1.2545e+00,  5.3689e-01],\n",
              "         [ 1.5138e+00,  8.0503e-01,  9.0758e-01,  ...,  7.9187e-01,\n",
              "          -1.3873e+00,  1.3683e+00],\n",
              "         ...,\n",
              "         [ 3.6092e-01,  1.2321e+00, -1.4758e-01,  ...,  1.0011e+00,\n",
              "           9.2040e-01, -3.1146e-02],\n",
              "         [-1.2661e-01,  3.5365e-01,  5.6368e-01,  ...,  1.7891e+00,\n",
              "           2.7709e+00,  5.8104e-01],\n",
              "         [ 2.5266e+00,  1.2500e+00,  5.5093e-01,  ...,  1.0497e+00,\n",
              "           1.1216e+00,  5.1349e-01]],\n",
              "\n",
              "        [[-1.6897e+00, -1.1451e+00,  6.0031e-01,  ..., -1.1967e+00,\n",
              "          -3.5536e-01, -1.6589e-01],\n",
              "         [ 5.4635e-01,  8.6185e-01,  1.0505e+00,  ...,  5.1969e-01,\n",
              "           2.5234e+00,  1.2107e+00],\n",
              "         [ 2.0055e+00,  1.5096e-01,  2.0022e+00,  ...,  7.6098e-01,\n",
              "           1.5446e+00,  1.5083e-01],\n",
              "         ...,\n",
              "         [ 4.4506e-01, -2.7356e-01,  1.2472e+00,  ...,  2.6174e+00,\n",
              "           1.0993e+00,  1.7709e+00],\n",
              "         [ 2.1290e+00,  1.2508e+00,  1.3846e+00,  ..., -2.1847e-01,\n",
              "           6.6448e-01,  6.2204e-01],\n",
              "         [ 4.5457e-01,  8.5121e-02, -8.0181e-01,  ...,  5.1452e-01,\n",
              "          -8.4270e-01,  1.2809e+00]]])"
            ]
          },
          "metadata": {
            "tags": []
          },
          "execution_count": 123
        }
      ]
    }
  ]
}